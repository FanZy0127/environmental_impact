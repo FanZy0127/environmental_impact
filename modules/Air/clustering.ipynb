{
 "cells": [
  {
   "cell_type": "code",
   "execution_count": 20,
   "metadata": {},
   "outputs": [],
   "source": [
    "import pandas as pd\n",
    "import numpy as np\n",
    "import seaborn as sns\n",
    "import matplotlib.pyplot as plt\n",
    "import sys\n",
    "sys.path.append('../../')\n",
    "from config.settings import settings\n",
    "from scipy.stats import pearsonr"
   ]
  },
  {
   "cell_type": "code",
   "execution_count": 21,
   "metadata": {},
   "outputs": [],
   "source": [
    "DATASETS_BASE = settings.MODULES_TO_DATASETS_PATH"
   ]
  },
  {
   "cell_type": "markdown",
   "metadata": {},
   "source": [
    "## Transform Dataframe"
   ]
  },
  {
   "cell_type": "markdown",
   "metadata": {},
   "source": [
    "On récupère le dataframe orginal, qu'on transforme afin d'avoir les polluants en features du df. Ce format correspond à l'input de notre modèle de machine learning."
   ]
  },
  {
   "cell_type": "code",
   "execution_count": 22,
   "metadata": {},
   "outputs": [],
   "source": [
    "df1_4 = pd.read_csv(DATASETS_BASE + settings.DATA_EU_AIR_F1_4, low_memory=False)"
   ]
  },
  {
   "cell_type": "code",
   "execution_count": 23,
   "metadata": {},
   "outputs": [],
   "source": [
    "def pollutant_features(d_frame: pd.DataFrame) -> pd.DataFrame:\n",
    "    df_pivoted = d_frame\\\n",
    "    .pivot_table(\n",
    "        index=['FacilityInspireID', 'reportingYear'],\n",
    "        columns='pollutant',\n",
    "        values='emissions',\n",
    "        aggfunc='sum')\\\n",
    "    .reset_index()\n",
    "\n",
    "    df_pivoted.iloc[:, 2:] = df_pivoted.iloc[:, 2:].fillna(0)\n",
    "\n",
    "    return df_pivoted"
   ]
  },
  {
   "cell_type": "code",
   "execution_count": 24,
   "metadata": {},
   "outputs": [],
   "source": [
    "def df_with_pollutant_features(df_unique: pd.DataFrame, df_pollutant: pd.DataFrame) -> pd.DataFrame:\n",
    "    df_final = pd.merge(df_unique, df_pollutant, on=['FacilityInspireID', 'reportingYear'], how='left')\n",
    "    # df_final = df_final.drop(columns=['index'])\n",
    "\n",
    "    return df_final"
   ]
  },
  {
   "cell_type": "code",
   "execution_count": 31,
   "metadata": {},
   "outputs": [],
   "source": [
    "def display_corr(df_pollutant: pd.DataFrame):\n",
    "    correlation_matrix = df_pollutant.iloc[:, 15:].corr(method='pearson')\n",
    "\n",
    "    plt.figure(figsize=(16, 12))\n",
    "\n",
    "    heatmap = sns.heatmap(correlation_matrix, annot=False, cmap='coolwarm', center=0)\n",
    "\n",
    "    plt.title('Heatmap of Feature Correlations')\n",
    "\n",
    "    plt.show()\n",
    "    \n",
    "    threshold = 0.75  # This is an arbitrary threshold\n",
    "\n",
    "    high_correlations = np.where(np.abs(correlation_matrix) > threshold)\n",
    "\n",
    "    high_correlations = [(correlation_matrix.index[x], correlation_matrix.columns[y])\n",
    "                        for x, y in zip(*high_correlations)\n",
    "                        if x != y and x < y]\n",
    "    \n",
    "    for pair in high_correlations:\n",
    "        corr_value, p_value = pearsonr(df_pollutant[pair[0]], df_pollutant[pair[1]])\n",
    "        print(f\"Correlation between {pair[0]} and {pair[1]}: {corr_value}, P-value: {p_value}\")\n",
    "\n",
    "    return heatmap"
   ]
  },
  {
   "cell_type": "code",
   "execution_count": 40,
   "metadata": {},
   "outputs": [],
   "source": [
    "def drop_columns(d_frame: pd.DataFrame) -> pd.DataFrame:\n",
    "    return d_frame.drop(columns=[\"countryName\", \"EPRTRSectorCode\", \n",
    "                                 \"EPRTRAnnexIMainActivityCode\", \"facilityNameConfidentialityReason\",\n",
    "                                 \"Longitude\", \"Latitude\", \"addressConfidentialityReason\", \"City\",\n",
    "                                 \"targetRelease\", \"releasesConfidentialityReason\"])"
   ]
  },
  {
   "cell_type": "code",
   "execution_count": 26,
   "metadata": {},
   "outputs": [],
   "source": [
    "df_unique = df1_4.drop_duplicates(subset=['FacilityInspireID', 'reportingYear']).drop(columns=['pollutant', 'emissions'])\n",
    "df_pollutant = pollutant_features(df1_4)\n",
    "df_final = df_with_pollutant_features(df_unique, df_pollutant)\n",
    "display_corr(df_final)"
   ]
  },
  {
   "cell_type": "code",
   "execution_count": 41,
   "metadata": {},
   "outputs": [],
   "source": [
    "df_final = drop_columns(df_final)\n",
    "df_final.info()"
   ]
  },
  {
   "cell_type": "markdown",
   "metadata": {},
   "source": [
    "## Clustering"
   ]
  },
  {
   "cell_type": "markdown",
   "metadata": {},
   "source": [
    "On cherche à mettre en évidence des patterns cachés"
   ]
  }
 ],
 "metadata": {
  "kernelspec": {
   "display_name": "venv",
   "language": "python",
   "name": "python3"
  },
  "language_info": {
   "codemirror_mode": {
    "name": "ipython",
    "version": 3
   },
   "file_extension": ".py",
   "mimetype": "text/x-python",
   "name": "python",
   "nbconvert_exporter": "python",
   "pygments_lexer": "ipython3",
   "version": "3.11.1"
  }
 },
 "nbformat": 4,
 "nbformat_minor": 2
}
