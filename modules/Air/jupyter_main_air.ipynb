{
 "cells": [
  {
   "attachments": {},
   "cell_type": "markdown",
   "metadata": {},
   "source": [
    "# Emissions de polluants dans l'air "
   ]
  },
  {
   "cell_type": "code",
   "execution_count": 1,
   "metadata": {
    "collapsed": false
   },
   "outputs": [],
   "source": [
    "import sys\n",
    "sys.path.append('../../')\n",
    "from config.settings import settings\n",
    "import dtale as dt\n",
    "import pandas as pd\n",
    "import seaborn as sns\n",
    "import plotly.express as px\n",
    "import matplotlib.pyplot as plt\n",
    "from sklearn.pipeline import Pipeline\n",
    "from sklearn.decomposition import PCA\n",
    "from sklearn.neural_network import MLPRegressor\n",
    "from sklearn.linear_model import LinearRegression\n",
    "from sklearn.ensemble import RandomForestRegressor\n",
    "from sklearn.compose import TransformedTargetRegressor\n",
    "from sklearn.metrics import mean_squared_error, r2_score\n",
    "from sklearn.preprocessing import StandardScaler, MinMaxScaler, KBinsDiscretizer\n",
    "from sklearn.model_selection import train_test_split, GridSearchCV"
   ]
  },
  {
   "cell_type": "code",
   "execution_count": 8,
   "metadata": {},
   "outputs": [],
   "source": [
    "DATASETS_BASE = settings.MODULES_TO_DATASETS_PATH"
   ]
  },
  {
   "attachments": {},
   "cell_type": "markdown",
   "metadata": {},
   "source": [
    "## F1 AIR"
   ]
  },
  {
   "cell_type": "code",
   "execution_count": 11,
   "metadata": {
    "collapsed": false
   },
   "outputs": [
    {
     "data": {
      "text/html": [
       "<div>\n",
       "<style scoped>\n",
       "    .dataframe tbody tr th:only-of-type {\n",
       "        vertical-align: middle;\n",
       "    }\n",
       "\n",
       "    .dataframe tbody tr th {\n",
       "        vertical-align: top;\n",
       "    }\n",
       "\n",
       "    .dataframe thead th {\n",
       "        text-align: right;\n",
       "    }\n",
       "</style>\n",
       "<table border=\"1\" class=\"dataframe\">\n",
       "  <thead>\n",
       "    <tr style=\"text-align: right;\">\n",
       "      <th></th>\n",
       "      <th>countryName</th>\n",
       "      <th>pollutant</th>\n",
       "      <th>reportingYear</th>\n",
       "      <th>emissions</th>\n",
       "    </tr>\n",
       "  </thead>\n",
       "  <tbody>\n",
       "    <tr>\n",
       "      <th>0</th>\n",
       "      <td>Austria</td>\n",
       "      <td>Carbon monoxide (CO)</td>\n",
       "      <td>2007</td>\n",
       "      <td>163261000.0</td>\n",
       "    </tr>\n",
       "    <tr>\n",
       "      <th>1</th>\n",
       "      <td>Austria</td>\n",
       "      <td>Copper and compounds (as Cu)</td>\n",
       "      <td>2007</td>\n",
       "      <td>380.0</td>\n",
       "    </tr>\n",
       "    <tr>\n",
       "      <th>2</th>\n",
       "      <td>Austria</td>\n",
       "      <td>Zinc and compounds (as Zn)</td>\n",
       "      <td>2007</td>\n",
       "      <td>18820.0</td>\n",
       "    </tr>\n",
       "    <tr>\n",
       "      <th>3</th>\n",
       "      <td>Austria</td>\n",
       "      <td>Chromium and compounds (as Cr)</td>\n",
       "      <td>2008</td>\n",
       "      <td>389.0</td>\n",
       "    </tr>\n",
       "    <tr>\n",
       "      <th>4</th>\n",
       "      <td>Austria</td>\n",
       "      <td>Nitrogen oxides (NOX)</td>\n",
       "      <td>2009</td>\n",
       "      <td>19103000.0</td>\n",
       "    </tr>\n",
       "  </tbody>\n",
       "</table>\n",
       "</div>"
      ],
      "text/plain": [
       "  countryName                       pollutant  reportingYear    emissions\n",
       "0     Austria            Carbon monoxide (CO)           2007  163261000.0\n",
       "1     Austria    Copper and compounds (as Cu)           2007        380.0\n",
       "2     Austria      Zinc and compounds (as Zn)           2007      18820.0\n",
       "3     Austria  Chromium and compounds (as Cr)           2008        389.0\n",
       "4     Austria           Nitrogen oxides (NOX)           2009   19103000.0"
      ]
     },
     "execution_count": 11,
     "metadata": {},
     "output_type": "execute_result"
    }
   ],
   "source": [
    "df1_1 = pd.read_csv(DATASETS_BASE + settings.DATA_EU_AIR_F1_1)\n",
    "df1_1.head()"
   ]
  },
  {
   "cell_type": "code",
   "execution_count": 12,
   "metadata": {
    "collapsed": false
   },
   "outputs": [
    {
     "name": "stdout",
     "output_type": "stream",
     "text": [
      "<class 'pandas.core.frame.DataFrame'>\n",
      "RangeIndex: 11541 entries, 0 to 11540\n",
      "Data columns (total 4 columns):\n",
      " #   Column         Non-Null Count  Dtype  \n",
      "---  ------         --------------  -----  \n",
      " 0   countryName    11541 non-null  object \n",
      " 1   pollutant      11541 non-null  object \n",
      " 2   reportingYear  11541 non-null  int64  \n",
      " 3   emissions      11541 non-null  float64\n",
      "dtypes: float64(1), int64(1), object(2)\n",
      "memory usage: 360.8+ KB\n"
     ]
    }
   ],
   "source": [
    "df1_1.info()"
   ]
  },
  {
   "attachments": {},
   "cell_type": "markdown",
   "metadata": {},
   "source": [
    "## F2 AIR"
   ]
  },
  {
   "cell_type": "code",
   "execution_count": 14,
   "metadata": {
    "collapsed": false
   },
   "outputs": [
    {
     "data": {
      "text/html": [
       "<div>\n",
       "<style scoped>\n",
       "    .dataframe tbody tr th:only-of-type {\n",
       "        vertical-align: middle;\n",
       "    }\n",
       "\n",
       "    .dataframe tbody tr th {\n",
       "        vertical-align: top;\n",
       "    }\n",
       "\n",
       "    .dataframe thead th {\n",
       "        text-align: right;\n",
       "    }\n",
       "</style>\n",
       "<table border=\"1\" class=\"dataframe\">\n",
       "  <thead>\n",
       "    <tr style=\"text-align: right;\">\n",
       "      <th></th>\n",
       "      <th>countryName</th>\n",
       "      <th>reportingYear</th>\n",
       "      <th>targetRelease</th>\n",
       "      <th>EPRTRSectorCode</th>\n",
       "      <th>eprtrSectorName</th>\n",
       "      <th>pollutant</th>\n",
       "      <th>emissions</th>\n",
       "    </tr>\n",
       "  </thead>\n",
       "  <tbody>\n",
       "    <tr>\n",
       "      <th>0</th>\n",
       "      <td>Austria</td>\n",
       "      <td>2007</td>\n",
       "      <td>AIR</td>\n",
       "      <td>1.0</td>\n",
       "      <td>Energy sector</td>\n",
       "      <td>Carbon dioxide (CO2)</td>\n",
       "      <td>2.870000e+09</td>\n",
       "    </tr>\n",
       "    <tr>\n",
       "      <th>1</th>\n",
       "      <td>Austria</td>\n",
       "      <td>2007</td>\n",
       "      <td>AIR</td>\n",
       "      <td>1.0</td>\n",
       "      <td>Energy sector</td>\n",
       "      <td>Nitrogen oxides (NOX)</td>\n",
       "      <td>3.050000e+06</td>\n",
       "    </tr>\n",
       "    <tr>\n",
       "      <th>2</th>\n",
       "      <td>Austria</td>\n",
       "      <td>2007</td>\n",
       "      <td>AIR</td>\n",
       "      <td>1.0</td>\n",
       "      <td>Energy sector</td>\n",
       "      <td>Particulate matter (PM10)</td>\n",
       "      <td>9.250000e+04</td>\n",
       "    </tr>\n",
       "    <tr>\n",
       "      <th>3</th>\n",
       "      <td>Austria</td>\n",
       "      <td>2007</td>\n",
       "      <td>AIR</td>\n",
       "      <td>1.0</td>\n",
       "      <td>Energy sector</td>\n",
       "      <td>Sulphur oxides (SOX)</td>\n",
       "      <td>3.230000e+06</td>\n",
       "    </tr>\n",
       "    <tr>\n",
       "      <th>4</th>\n",
       "      <td>Austria</td>\n",
       "      <td>2007</td>\n",
       "      <td>AIR</td>\n",
       "      <td>1.0</td>\n",
       "      <td>Energy sector</td>\n",
       "      <td>Carbon dioxide (CO2)</td>\n",
       "      <td>8.454000e+09</td>\n",
       "    </tr>\n",
       "  </tbody>\n",
       "</table>\n",
       "</div>"
      ],
      "text/plain": [
       "  countryName  reportingYear targetRelease  EPRTRSectorCode eprtrSectorName   \n",
       "0     Austria           2007           AIR              1.0   Energy sector  \\\n",
       "1     Austria           2007           AIR              1.0   Energy sector   \n",
       "2     Austria           2007           AIR              1.0   Energy sector   \n",
       "3     Austria           2007           AIR              1.0   Energy sector   \n",
       "4     Austria           2007           AIR              1.0   Energy sector   \n",
       "\n",
       "                   pollutant     emissions  \n",
       "0       Carbon dioxide (CO2)  2.870000e+09  \n",
       "1      Nitrogen oxides (NOX)  3.050000e+06  \n",
       "2  Particulate matter (PM10)  9.250000e+04  \n",
       "3       Sulphur oxides (SOX)  3.230000e+06  \n",
       "4       Carbon dioxide (CO2)  8.454000e+09  "
      ]
     },
     "execution_count": 14,
     "metadata": {},
     "output_type": "execute_result"
    }
   ],
   "source": [
    "df1_2 = pd.read_csv(DATASETS_BASE + settings.DATA_EU_AIR_F1_2)\n",
    "df1_2.head()"
   ]
  },
  {
   "cell_type": "code",
   "execution_count": 19,
   "metadata": {},
   "outputs": [
    {
     "name": "stdout",
     "output_type": "stream",
     "text": [
      "<class 'pandas.core.frame.DataFrame'>\n",
      "RangeIndex: 62104 entries, 0 to 62103\n",
      "Data columns (total 7 columns):\n",
      " #   Column           Non-Null Count  Dtype  \n",
      "---  ------           --------------  -----  \n",
      " 0   countryName      62104 non-null  object \n",
      " 1   reportingYear    62104 non-null  int64  \n",
      " 2   targetRelease    62104 non-null  object \n",
      " 3   EPRTRSectorCode  61957 non-null  float64\n",
      " 4   eprtrSectorName  61957 non-null  object \n",
      " 5   pollutant        62104 non-null  object \n",
      " 6   emissions        62104 non-null  float64\n",
      "dtypes: float64(2), int64(1), object(4)\n",
      "memory usage: 3.3+ MB\n"
     ]
    }
   ],
   "source": [
    "df1_2.info()"
   ]
  },
  {
   "cell_type": "code",
   "execution_count": 24,
   "metadata": {},
   "outputs": [
    {
     "name": "stdout",
     "output_type": "stream",
     "text": [
      "targetRelease : ['AIR']\n",
      "EPRTRSectorCode : [ 1.  2.  3.  4.  5.  6.  8.  9.  7. nan]\n",
      "eprtrSectorName : ['Energy sector' 'Production and processing of metals' 'Mineral industry'\n",
      " 'Chemical industry' 'Waste and wastewater management'\n",
      " 'Paper and wood production and processing'\n",
      " 'Animal and vegetable products from the food and beverage sector'\n",
      " 'Other activities' 'Intensive livestock production and aquaculture' nan]\n"
     ]
    }
   ],
   "source": [
    "print(\"targetRelease :\", df1_2.targetRelease.unique())\n",
    "print(\"EPRTRSectorCode :\", df1_2.EPRTRSectorCode.unique())\n",
    "print(\"eprtrSectorName :\", df1_2.eprtrSectorName.unique())"
   ]
  },
  {
   "attachments": {},
   "cell_type": "markdown",
   "metadata": {},
   "source": [
    "## F3 AIR"
   ]
  },
  {
   "cell_type": "code",
   "execution_count": 25,
   "metadata": {},
   "outputs": [
    {
     "data": {
      "text/html": [
       "<div>\n",
       "<style scoped>\n",
       "    .dataframe tbody tr th:only-of-type {\n",
       "        vertical-align: middle;\n",
       "    }\n",
       "\n",
       "    .dataframe tbody tr th {\n",
       "        vertical-align: top;\n",
       "    }\n",
       "\n",
       "    .dataframe thead th {\n",
       "        text-align: right;\n",
       "    }\n",
       "</style>\n",
       "<table border=\"1\" class=\"dataframe\">\n",
       "  <thead>\n",
       "    <tr style=\"text-align: right;\">\n",
       "      <th></th>\n",
       "      <th>countryName</th>\n",
       "      <th>EPRTRSectorCode</th>\n",
       "      <th>eprtrSectorName</th>\n",
       "      <th>EPRTRAnnexIMainActivityCode</th>\n",
       "      <th>EPRTRAnnexIMainActivityLabel</th>\n",
       "      <th>targetRelease</th>\n",
       "      <th>reportingYear</th>\n",
       "      <th>pollutant</th>\n",
       "      <th>emissions</th>\n",
       "    </tr>\n",
       "  </thead>\n",
       "  <tbody>\n",
       "    <tr>\n",
       "      <th>0</th>\n",
       "      <td>Austria</td>\n",
       "      <td>1.0</td>\n",
       "      <td>Energy sector</td>\n",
       "      <td>1(a)</td>\n",
       "      <td>Mineral oil and gas refineries</td>\n",
       "      <td>AIR</td>\n",
       "      <td>2007</td>\n",
       "      <td>Carbon dioxide (CO2)</td>\n",
       "      <td>2.870000e+09</td>\n",
       "    </tr>\n",
       "    <tr>\n",
       "      <th>1</th>\n",
       "      <td>Austria</td>\n",
       "      <td>1.0</td>\n",
       "      <td>Energy sector</td>\n",
       "      <td>1(a)</td>\n",
       "      <td>Mineral oil and gas refineries</td>\n",
       "      <td>AIR</td>\n",
       "      <td>2007</td>\n",
       "      <td>Nitrogen oxides (NOX)</td>\n",
       "      <td>3.050000e+06</td>\n",
       "    </tr>\n",
       "    <tr>\n",
       "      <th>2</th>\n",
       "      <td>Austria</td>\n",
       "      <td>1.0</td>\n",
       "      <td>Energy sector</td>\n",
       "      <td>1(a)</td>\n",
       "      <td>Mineral oil and gas refineries</td>\n",
       "      <td>AIR</td>\n",
       "      <td>2007</td>\n",
       "      <td>Particulate matter (PM10)</td>\n",
       "      <td>9.250000e+04</td>\n",
       "    </tr>\n",
       "    <tr>\n",
       "      <th>3</th>\n",
       "      <td>Austria</td>\n",
       "      <td>1.0</td>\n",
       "      <td>Energy sector</td>\n",
       "      <td>1(a)</td>\n",
       "      <td>Mineral oil and gas refineries</td>\n",
       "      <td>AIR</td>\n",
       "      <td>2007</td>\n",
       "      <td>Sulphur oxides (SOX)</td>\n",
       "      <td>3.230000e+06</td>\n",
       "    </tr>\n",
       "    <tr>\n",
       "      <th>4</th>\n",
       "      <td>Austria</td>\n",
       "      <td>1.0</td>\n",
       "      <td>Energy sector</td>\n",
       "      <td>1(c)</td>\n",
       "      <td>Thermal power stations and other combustion in...</td>\n",
       "      <td>AIR</td>\n",
       "      <td>2007</td>\n",
       "      <td>Carbon dioxide (CO2)</td>\n",
       "      <td>8.454000e+09</td>\n",
       "    </tr>\n",
       "  </tbody>\n",
       "</table>\n",
       "</div>"
      ],
      "text/plain": [
       "  countryName  EPRTRSectorCode eprtrSectorName EPRTRAnnexIMainActivityCode   \n",
       "0     Austria              1.0   Energy sector                        1(a)  \\\n",
       "1     Austria              1.0   Energy sector                        1(a)   \n",
       "2     Austria              1.0   Energy sector                        1(a)   \n",
       "3     Austria              1.0   Energy sector                        1(a)   \n",
       "4     Austria              1.0   Energy sector                        1(c)   \n",
       "\n",
       "                        EPRTRAnnexIMainActivityLabel targetRelease   \n",
       "0                     Mineral oil and gas refineries           AIR  \\\n",
       "1                     Mineral oil and gas refineries           AIR   \n",
       "2                     Mineral oil and gas refineries           AIR   \n",
       "3                     Mineral oil and gas refineries           AIR   \n",
       "4  Thermal power stations and other combustion in...           AIR   \n",
       "\n",
       "   reportingYear                  pollutant     emissions  \n",
       "0           2007       Carbon dioxide (CO2)  2.870000e+09  \n",
       "1           2007      Nitrogen oxides (NOX)  3.050000e+06  \n",
       "2           2007  Particulate matter (PM10)  9.250000e+04  \n",
       "3           2007       Sulphur oxides (SOX)  3.230000e+06  \n",
       "4           2007       Carbon dioxide (CO2)  8.454000e+09  "
      ]
     },
     "execution_count": 25,
     "metadata": {},
     "output_type": "execute_result"
    }
   ],
   "source": [
    "df1_3 = pd.read_csv(DATASETS_BASE + settings.DATA_EU_AIR_F1_3)\n",
    "df1_3.head()"
   ]
  },
  {
   "cell_type": "code",
   "execution_count": 26,
   "metadata": {},
   "outputs": [
    {
     "data": {
      "text/plain": [
       "array(['Mineral oil and gas refineries',\n",
       "       'Thermal power stations and other combustion installations',\n",
       "       'Installations for the production of pig iron or steel (primary or secondary melting) including continuous casting',\n",
       "       'Ferrous metal foundries with a production capacity of 20 tonnes per day',\n",
       "       'Installations for the production and/or smelting of non-ferrous metals. Note to reporters, use Level 3 activity e.g. 2(e)(i), in preference to 2(e). Level 2 activity class (i.e. 2(e)) only to be used where Level 3 is not available.',\n",
       "       'Installations for surface treatment of metals and plastic materials using an electrolytic or chemical process',\n",
       "       'Installations for the production of cement clinker in rotary kilns, lime in rotary kilns, cement or lime in other furnaces. Note to reporters, use Level 3 activity e.g. 3(c)(i), in preference to 3(c). Level 2 activity class (i.e. 3(c)) only to be used where Level 3 is not available.',\n",
       "       'Installations for the manufacture of glass, including glass fibre',\n",
       "       'Installations for melting mineral substances, including the production of mineral fibres',\n",
       "       'Chemical installations for the production on an industrial scale of basic organic chemicals. Note to reporters, use Level 3 activity e.g. 4(a)(iii), in preference to 4(a). Level 2 activity class (i.e. 4(a)) only to be used where Level 3 is not available.',\n",
       "       'Chemical installations for the production on an industrial scale of basic inorganic chemicals. Note to reporters, use Level 3 activity e.g. 4(b)(i), in preference to 4(b). Level 2 activity class (i.e. 4(b)) only to be used where Level 3 is not available.',\n",
       "       'Chemical installations for the production on an industrial scale of basic plant health products and of biocides',\n",
       "       'Installations using a chemical or biological process for the production on an industrial scale of basic pharmaceutical products',\n",
       "       'Installations for the incineration of non-hazardous waste in the scope of Directive 2000/76/EC of the European Parliament and of the Council of 4 December 2000 on the incineration of waste',\n",
       "       'Installations for the disposal of non-hazardous waste',\n",
       "       'Landfills (excluding landfills of inert waste and landfills, which were definitely closed before 16.7.2001 or for which the after-care phase required by the competent authorities according to Article 13 of Council Directive 1999/31/EC of 26 April 1999 on the landfill of waste has expired)',\n",
       "       'Urban waste-water treatment plants',\n",
       "       'Independently operated industrial waste-water treatment plants which serve one or more activities covered in annex 1 of Regulation 166/2006',\n",
       "       'Industrial plants for the production of pulp from timber or similar fibrous materials',\n",
       "       'Industrial plants for the production of paper and board and other primary wood products (such as chipboard, fibreboard and plywood)',\n",
       "       'Treatment and processing intended for the production of food and beverage products. Note to reporters, use Level 3 activity e.g. 8(b)(i), in preference to 8(b). Level 2 activity class (i.e. 8(b)) only to be used where Level 3 is not available.',\n",
       "       'Installations for the surface treatment of substances, objects or products using organic solvents, in particular for dressing, printing, coating, degreasing, waterproofing, sizing, painting, cleaning or impregnating',\n",
       "       'Underground mining and related operations',\n",
       "       'Chemical installations for the production on an industrial scale of phosphorous, nitrogen or potassium based fertilisers (simple or compound fertilisers)',\n",
       "       'Installations for the recovery or disposal of hazardous waste',\n",
       "       'Opencast mining and quarrying',\n",
       "       'Installations for the manufacture of ceramic products by firing, in particular roofing tiles, bricks, refractory bricks, tiles, stoneware or porcelain',\n",
       "       'Installations for the processing of ferrous metals. Note to reporters, use Level 3 activity e.g. 2(c)(i), in preference to 2(c). Level 2 activity class (i.e. 2(c)) only to be used where Level 3 is not available.',\n",
       "       'Installations for the processing of ferrous metals, Hot-rolling mills',\n",
       "       'Installations for the processing of ferrous metals, Application of protective fused metal coats',\n",
       "       'Installation for the production of non-ferrous crude metals from ore, concentrates or secondary raw materials by metallurgical, chemical or electrolytic processes',\n",
       "       'Installation for the smelting, including the alloying, of non-ferrous metals, including recovered products (refining, foundry casting, etc.)',\n",
       "       'Installations for the production of cement clinker in rotary kilns',\n",
       "       'Installations for the production of lime in rotary kilns',\n",
       "       'Installations for the production of cement clinker or lime in other furnaces',\n",
       "       'Chemical installations for the production on an industrial scale of basic organic chemicals: Simple hydrocarbons (linear or cyclic, saturated or unsaturated, aliphatic or aromatic)',\n",
       "       'Chemical installations for the production on an industrial scale of basic organic chemicals: Synthetic rubbers',\n",
       "       'Chemical installations for the production on an industrial scale of basic organic chemicals: Halogenic hydrocarbons',\n",
       "       'Chemical installations for the production on an industrial scale of basic organic chemicals: Basic plastic materials (polymers, synthetic fibres and cellulose-based fibres)',\n",
       "       'Chemical installations for the production on an industrial scale of basic inorganic chemicals: Acids, such as chromic acid, hydrofluoric acid, phosphoric acid, nitric acid, hydrochloric acid, sulphuric acid, oleum, sulphurous acids',\n",
       "       'Chemical installations for the production on an industrial scale of basic inorganic chemicals: Non-metals, metal oxides or other inorganic compounds such as calcium carbide, silicon, silicon carbide',\n",
       "       'Installations for the disposal or recycling of animal carcasses and animal waste',\n",
       "       'Industrial plants for the preservation of wood and wood products with chemicals',\n",
       "       'Installations for the intensive rearing of poultry or pigs. Note to reporters, use Level 3 activity e.g. 7(a)(ii), in preference to 7(a). Level 2 activity class (i.e. 7(a)) only to be used where Level 3 is not available.',\n",
       "       'Installations for the intensive rearing of poultry with 40,000 places for poultry',\n",
       "       'Installations for the intensive rearing of pigs with 2,000 places for production pigs (over 30 kg)',\n",
       "       'Installations for the intensive rearing of pigs with 750 places for sows',\n",
       "       'Slaughterhouses',\n",
       "       'Treatment and processing intended for the production of food and beverage products from animal raw materials (other than milk)',\n",
       "       'Treatment and processing intended for the production of food and beverage products from vegetable raw materials',\n",
       "       'Treatment and processing of milk',\n",
       "       'Plants for the pre-treatment (operations such as washing, bleaching, mercerisation) or dyeing of fibres or textiles',\n",
       "       'Chemical installations for the production on an industrial scale of basic organic chemicals: Oxygen-containing hydrocarbons such as alcohols, aldehydes, ketones, carboxylic acids, esters, acetates, ethers, peroxides, epoxy resins',\n",
       "       'Chemical installations for the production on an industrial scale of basic organic chemicals: Nitrogenous hydrocarbons such as amines, amides, nitrous compounds, nitro compounds or nitrate compounds, nitriles, cyanates, isocyanates',\n",
       "       'Chemical installations for the production on an industrial scale of basic inorganic chemicals: Gases, such as ammonia, chlorine or hydrogen chloride, fluorine or hydrogen fluoride, carbon oxides, sulphur compounds, nitrogen oxides, hydrogen, sulphur dioxide, carbonyl chloride',\n",
       "       'Installations for the building of, and painting or removal of paint from ships with a capacity for ships 100 m long',\n",
       "       'Chemical installations for the production on an industrial scale of basic inorganic chemicals: Salts, such as ammonium chloride, potassium chlorate, potassium carbonate, sodium carbonate, perborate, silver nitrate',\n",
       "       'Metal ore (including sulphide ore) roasting or sintering installations',\n",
       "       'Chemical installations for the production on an industrial scale of basic organic chemicals: Sulphurous hydrocarbons',\n",
       "       nan, 'Coke ovens',\n",
       "       'Chemical installations for the production on an industrial scale of basic organic chemicals: Dyes and pigments',\n",
       "       'Installations for the manufacture of coal products and solid smokeless fuel',\n",
       "       'Installations for gasification and liquefaction',\n",
       "       'Intensive aquaculture',\n",
       "       'Installations for the production on an industrial scale of explosives and pyrotechnic products',\n",
       "       'Chemical installations for the production on an industrial scale of basic organic chemicals: Surface-active agents and surfactants',\n",
       "       'Chemical installations for the production on an industrial scale of basic inorganic chemicals: Bases, such as ammonium hydroxide, potassium hydroxide, sodium hydroxide',\n",
       "       'Installations for the production of carbon (hard-burnt coal) or electro-graphite by means of incineration or graphitisation',\n",
       "       'Coal rolling mills with a capacity of 1 tonne per hour',\n",
       "       'Chemical installations for the production on an industrial scale of basic organic chemicals: Phosphorus-containing hydrocarbons',\n",
       "       'Chemical installations for the production on an industrial scale of basic organic chemicals: Organometallic compounds',\n",
       "       'Installations for the processing of ferrous metals, Smitheries with hammers',\n",
       "       'Plants for the tanning of hides and skins'], dtype=object)"
      ]
     },
     "execution_count": 26,
     "metadata": {},
     "output_type": "execute_result"
    }
   ],
   "source": [
    "df1_3.EPRTRAnnexIMainActivityLabel.unique()"
   ]
  },
  {
   "cell_type": "code",
   "execution_count": 31,
   "metadata": {},
   "outputs": [
    {
     "name": "stdout",
     "output_type": "stream",
     "text": [
      "<class 'pandas.core.frame.DataFrame'>\n",
      "RangeIndex: 62104 entries, 0 to 62103\n",
      "Data columns (total 9 columns):\n",
      " #   Column                        Non-Null Count  Dtype  \n",
      "---  ------                        --------------  -----  \n",
      " 0   countryName                   62104 non-null  object \n",
      " 1   EPRTRSectorCode               61957 non-null  float64\n",
      " 2   eprtrSectorName               61957 non-null  object \n",
      " 3   EPRTRAnnexIMainActivityCode   61957 non-null  object \n",
      " 4   EPRTRAnnexIMainActivityLabel  61957 non-null  object \n",
      " 5   targetRelease                 62104 non-null  object \n",
      " 6   reportingYear                 62104 non-null  int64  \n",
      " 7   pollutant                     62104 non-null  object \n",
      " 8   emissions                     62104 non-null  float64\n",
      "dtypes: float64(2), int64(1), object(6)\n",
      "memory usage: 4.3+ MB\n"
     ]
    }
   ],
   "source": [
    "df1_3.info()"
   ]
  },
  {
   "attachments": {},
   "cell_type": "markdown",
   "metadata": {},
   "source": [
    "## F4 AIR"
   ]
  },
  {
   "cell_type": "code",
   "execution_count": 29,
   "metadata": {},
   "outputs": [
    {
     "data": {
      "text/html": [
       "<div>\n",
       "<style scoped>\n",
       "    .dataframe tbody tr th:only-of-type {\n",
       "        vertical-align: middle;\n",
       "    }\n",
       "\n",
       "    .dataframe tbody tr th {\n",
       "        vertical-align: top;\n",
       "    }\n",
       "\n",
       "    .dataframe thead th {\n",
       "        text-align: right;\n",
       "    }\n",
       "</style>\n",
       "<table border=\"1\" class=\"dataframe\">\n",
       "  <thead>\n",
       "    <tr style=\"text-align: right;\">\n",
       "      <th></th>\n",
       "      <th>countryName</th>\n",
       "      <th>EPRTRSectorCode</th>\n",
       "      <th>eprtrSectorName</th>\n",
       "      <th>EPRTRAnnexIMainActivityCode</th>\n",
       "      <th>EPRTRAnnexIMainActivityLabel</th>\n",
       "      <th>FacilityInspireID</th>\n",
       "      <th>facilityName</th>\n",
       "      <th>facilityNameConfidentialityReason</th>\n",
       "      <th>Longitude</th>\n",
       "      <th>Latitude</th>\n",
       "      <th>addressConfidentialityReason</th>\n",
       "      <th>City</th>\n",
       "      <th>targetRelease</th>\n",
       "      <th>pollutant</th>\n",
       "      <th>emissions</th>\n",
       "      <th>reportingYear</th>\n",
       "      <th>releasesConfidentialityReason</th>\n",
       "    </tr>\n",
       "  </thead>\n",
       "  <tbody>\n",
       "    <tr>\n",
       "      <th>0</th>\n",
       "      <td>Austria</td>\n",
       "      <td>4.0</td>\n",
       "      <td>Chemical industry</td>\n",
       "      <td>4(d)</td>\n",
       "      <td>Chemical installations for the production on a...</td>\n",
       "      <td>AT.CAED/9008390392737.FACILITY</td>\n",
       "      <td>Nufarm GmbH &amp; CO KG</td>\n",
       "      <td>NaN</td>\n",
       "      <td>14.336056</td>\n",
       "      <td>48.290943</td>\n",
       "      <td>NaN</td>\n",
       "      <td>Linz</td>\n",
       "      <td>AIR</td>\n",
       "      <td>1,2-dichloroethane (DCE-1,2)</td>\n",
       "      <td>3300.0</td>\n",
       "      <td>2007</td>\n",
       "      <td>NaN</td>\n",
       "    </tr>\n",
       "    <tr>\n",
       "      <th>1</th>\n",
       "      <td>Austria</td>\n",
       "      <td>9.0</td>\n",
       "      <td>Other activities</td>\n",
       "      <td>9(c)</td>\n",
       "      <td>Installations for the surface treatment of sub...</td>\n",
       "      <td>AT.CAED/9008390396414.FACILITY</td>\n",
       "      <td>MAGNA STEYR Fahrzeugtechnik AG&amp;Co KG</td>\n",
       "      <td>NaN</td>\n",
       "      <td>15.477778</td>\n",
       "      <td>47.019170</td>\n",
       "      <td>NaN</td>\n",
       "      <td>Graz,07.Bez.:Liebenau</td>\n",
       "      <td>AIR</td>\n",
       "      <td>Non-methane volatile organic compounds (NMVOC)</td>\n",
       "      <td>170000.0</td>\n",
       "      <td>2007</td>\n",
       "      <td>NaN</td>\n",
       "    </tr>\n",
       "    <tr>\n",
       "      <th>2</th>\n",
       "      <td>Austria</td>\n",
       "      <td>6.0</td>\n",
       "      <td>Paper and wood production and processing</td>\n",
       "      <td>6(b)</td>\n",
       "      <td>Industrial plants for the production of paper ...</td>\n",
       "      <td>AT.CAED/9008390397176.FACILITY</td>\n",
       "      <td>Fritz EGGER GmbH &amp; Co. OG</td>\n",
       "      <td>NaN</td>\n",
       "      <td>15.691833</td>\n",
       "      <td>48.259556</td>\n",
       "      <td>NaN</td>\n",
       "      <td>Unterradlberg</td>\n",
       "      <td>AIR</td>\n",
       "      <td>Carbon dioxide (CO2)</td>\n",
       "      <td>228000000.0</td>\n",
       "      <td>2007</td>\n",
       "      <td>NaN</td>\n",
       "    </tr>\n",
       "    <tr>\n",
       "      <th>3</th>\n",
       "      <td>Austria</td>\n",
       "      <td>6.0</td>\n",
       "      <td>Paper and wood production and processing</td>\n",
       "      <td>6(b)</td>\n",
       "      <td>Industrial plants for the production of paper ...</td>\n",
       "      <td>AT.CAED/9008390397176.FACILITY</td>\n",
       "      <td>Fritz EGGER GmbH &amp; Co. OG</td>\n",
       "      <td>NaN</td>\n",
       "      <td>15.691833</td>\n",
       "      <td>48.259556</td>\n",
       "      <td>NaN</td>\n",
       "      <td>Unterradlberg</td>\n",
       "      <td>AIR</td>\n",
       "      <td>Nitrogen oxides (NOX)</td>\n",
       "      <td>311000.0</td>\n",
       "      <td>2007</td>\n",
       "      <td>NaN</td>\n",
       "    </tr>\n",
       "    <tr>\n",
       "      <th>4</th>\n",
       "      <td>Austria</td>\n",
       "      <td>3.0</td>\n",
       "      <td>Mineral industry</td>\n",
       "      <td>3(c)</td>\n",
       "      <td>Installations for the production of cement cli...</td>\n",
       "      <td>AT.CAED/9008390397220.FACILITY</td>\n",
       "      <td>voestalpine Stahl GmbH</td>\n",
       "      <td>NaN</td>\n",
       "      <td>14.159778</td>\n",
       "      <td>47.807083</td>\n",
       "      <td>NaN</td>\n",
       "      <td>Klaus an der Pyhrnbahn</td>\n",
       "      <td>AIR</td>\n",
       "      <td>Carbon dioxide (CO2)</td>\n",
       "      <td>329000000.0</td>\n",
       "      <td>2007</td>\n",
       "      <td>NaN</td>\n",
       "    </tr>\n",
       "  </tbody>\n",
       "</table>\n",
       "</div>"
      ],
      "text/plain": [
       "  countryName  EPRTRSectorCode                           eprtrSectorName   \n",
       "0     Austria              4.0                         Chemical industry  \\\n",
       "1     Austria              9.0                          Other activities   \n",
       "2     Austria              6.0  Paper and wood production and processing   \n",
       "3     Austria              6.0  Paper and wood production and processing   \n",
       "4     Austria              3.0                          Mineral industry   \n",
       "\n",
       "  EPRTRAnnexIMainActivityCode   \n",
       "0                        4(d)  \\\n",
       "1                        9(c)   \n",
       "2                        6(b)   \n",
       "3                        6(b)   \n",
       "4                        3(c)   \n",
       "\n",
       "                        EPRTRAnnexIMainActivityLabel   \n",
       "0  Chemical installations for the production on a...  \\\n",
       "1  Installations for the surface treatment of sub...   \n",
       "2  Industrial plants for the production of paper ...   \n",
       "3  Industrial plants for the production of paper ...   \n",
       "4  Installations for the production of cement cli...   \n",
       "\n",
       "                FacilityInspireID                          facilityName   \n",
       "0  AT.CAED/9008390392737.FACILITY                   Nufarm GmbH & CO KG  \\\n",
       "1  AT.CAED/9008390396414.FACILITY  MAGNA STEYR Fahrzeugtechnik AG&Co KG   \n",
       "2  AT.CAED/9008390397176.FACILITY             Fritz EGGER GmbH & Co. OG   \n",
       "3  AT.CAED/9008390397176.FACILITY             Fritz EGGER GmbH & Co. OG   \n",
       "4  AT.CAED/9008390397220.FACILITY                voestalpine Stahl GmbH   \n",
       "\n",
       "  facilityNameConfidentialityReason  Longitude   Latitude   \n",
       "0                               NaN  14.336056  48.290943  \\\n",
       "1                               NaN  15.477778  47.019170   \n",
       "2                               NaN  15.691833  48.259556   \n",
       "3                               NaN  15.691833  48.259556   \n",
       "4                               NaN  14.159778  47.807083   \n",
       "\n",
       "  addressConfidentialityReason                    City targetRelease   \n",
       "0                          NaN                    Linz           AIR  \\\n",
       "1                          NaN   Graz,07.Bez.:Liebenau           AIR   \n",
       "2                          NaN           Unterradlberg           AIR   \n",
       "3                          NaN           Unterradlberg           AIR   \n",
       "4                          NaN  Klaus an der Pyhrnbahn           AIR   \n",
       "\n",
       "                                        pollutant    emissions  reportingYear   \n",
       "0                    1,2-dichloroethane (DCE-1,2)       3300.0           2007  \\\n",
       "1  Non-methane volatile organic compounds (NMVOC)     170000.0           2007   \n",
       "2                            Carbon dioxide (CO2)  228000000.0           2007   \n",
       "3                           Nitrogen oxides (NOX)     311000.0           2007   \n",
       "4                            Carbon dioxide (CO2)  329000000.0           2007   \n",
       "\n",
       "  releasesConfidentialityReason  \n",
       "0                           NaN  \n",
       "1                           NaN  \n",
       "2                           NaN  \n",
       "3                           NaN  \n",
       "4                           NaN  "
      ]
     },
     "execution_count": 29,
     "metadata": {},
     "output_type": "execute_result"
    }
   ],
   "source": [
    "df1_4 = pd.read_csv(DATASETS_BASE + settings.DATA_EU_AIR_F1_4, low_memory=False)\n",
    "df1_4.head()"
   ]
  },
  {
   "cell_type": "code",
   "execution_count": 30,
   "metadata": {},
   "outputs": [
    {
     "name": "stdout",
     "output_type": "stream",
     "text": [
      "<class 'pandas.core.frame.DataFrame'>\n",
      "RangeIndex: 324555 entries, 0 to 324554\n",
      "Data columns (total 17 columns):\n",
      " #   Column                             Non-Null Count   Dtype  \n",
      "---  ------                             --------------   -----  \n",
      " 0   countryName                        324555 non-null  object \n",
      " 1   EPRTRSectorCode                    323540 non-null  float64\n",
      " 2   eprtrSectorName                    323540 non-null  object \n",
      " 3   EPRTRAnnexIMainActivityCode        323540 non-null  object \n",
      " 4   EPRTRAnnexIMainActivityLabel       323540 non-null  object \n",
      " 5   FacilityInspireID                  324555 non-null  object \n",
      " 6   facilityName                       324159 non-null  object \n",
      " 7   facilityNameConfidentialityReason  1790 non-null    object \n",
      " 8   Longitude                          324555 non-null  float64\n",
      " 9   Latitude                           324555 non-null  float64\n",
      " 10  addressConfidentialityReason       1050 non-null    object \n",
      " 11  City                               324322 non-null  object \n",
      " 12  targetRelease                      324555 non-null  object \n",
      " 13  pollutant                          324555 non-null  object \n",
      " 14  emissions                          324555 non-null  float64\n",
      " 15  reportingYear                      324555 non-null  int64  \n",
      " 16  releasesConfidentialityReason      416 non-null     object \n",
      "dtypes: float64(4), int64(1), object(12)\n",
      "memory usage: 42.1+ MB\n"
     ]
    }
   ],
   "source": [
    "df1_4.info()\n",
    "\n",
    "# 324555 "
   ]
  },
  {
   "cell_type": "code",
   "execution_count": 33,
   "metadata": {},
   "outputs": [
    {
     "data": {
      "text/html": [
       "<div>\n",
       "<style scoped>\n",
       "    .dataframe tbody tr th:only-of-type {\n",
       "        vertical-align: middle;\n",
       "    }\n",
       "\n",
       "    .dataframe tbody tr th {\n",
       "        vertical-align: top;\n",
       "    }\n",
       "\n",
       "    .dataframe thead th {\n",
       "        text-align: right;\n",
       "    }\n",
       "</style>\n",
       "<table border=\"1\" class=\"dataframe\">\n",
       "  <thead>\n",
       "    <tr style=\"text-align: right;\">\n",
       "      <th></th>\n",
       "      <th>facilityName</th>\n",
       "      <th>facilityNameConfidentialityReason</th>\n",
       "    </tr>\n",
       "  </thead>\n",
       "  <tbody>\n",
       "    <tr>\n",
       "      <th>3528</th>\n",
       "      <td>Confidential</td>\n",
       "      <td>Article4(2)(f)</td>\n",
       "    </tr>\n",
       "    <tr>\n",
       "      <th>3529</th>\n",
       "      <td>Confidential</td>\n",
       "      <td>Article4(2)(f)</td>\n",
       "    </tr>\n",
       "    <tr>\n",
       "      <th>3530</th>\n",
       "      <td>Confidential</td>\n",
       "      <td>Article4(2)(f)</td>\n",
       "    </tr>\n",
       "    <tr>\n",
       "      <th>3562</th>\n",
       "      <td>Confidential</td>\n",
       "      <td>Article4(2)(f)</td>\n",
       "    </tr>\n",
       "    <tr>\n",
       "      <th>3652</th>\n",
       "      <td>Confidential</td>\n",
       "      <td>Article4(2)(f)</td>\n",
       "    </tr>\n",
       "    <tr>\n",
       "      <th>...</th>\n",
       "      <td>...</td>\n",
       "      <td>...</td>\n",
       "    </tr>\n",
       "    <tr>\n",
       "      <th>319413</th>\n",
       "      <td>Confidential</td>\n",
       "      <td>Article4(2)(d)</td>\n",
       "    </tr>\n",
       "    <tr>\n",
       "      <th>319414</th>\n",
       "      <td>Confidential</td>\n",
       "      <td>Article4(2)(d)</td>\n",
       "    </tr>\n",
       "    <tr>\n",
       "      <th>321877</th>\n",
       "      <td>Confidential</td>\n",
       "      <td>Article4(2)(d)</td>\n",
       "    </tr>\n",
       "    <tr>\n",
       "      <th>321878</th>\n",
       "      <td>Confidential</td>\n",
       "      <td>Article4(2)(d)</td>\n",
       "    </tr>\n",
       "    <tr>\n",
       "      <th>321879</th>\n",
       "      <td>Confidential</td>\n",
       "      <td>Article4(2)(d)</td>\n",
       "    </tr>\n",
       "  </tbody>\n",
       "</table>\n",
       "<p>1790 rows × 2 columns</p>\n",
       "</div>"
      ],
      "text/plain": [
       "        facilityName facilityNameConfidentialityReason\n",
       "3528    Confidential                    Article4(2)(f)\n",
       "3529    Confidential                    Article4(2)(f)\n",
       "3530    Confidential                    Article4(2)(f)\n",
       "3562    Confidential                    Article4(2)(f)\n",
       "3652    Confidential                    Article4(2)(f)\n",
       "...              ...                               ...\n",
       "319413  Confidential                    Article4(2)(d)\n",
       "319414  Confidential                    Article4(2)(d)\n",
       "321877  Confidential                    Article4(2)(d)\n",
       "321878  Confidential                    Article4(2)(d)\n",
       "321879  Confidential                    Article4(2)(d)\n",
       "\n",
       "[1790 rows x 2 columns]"
      ]
     },
     "execution_count": 33,
     "metadata": {},
     "output_type": "execute_result"
    }
   ],
   "source": [
    "df1_4[~df1_4.facilityNameConfidentialityReason.isna()][[\"facilityName\", \"facilityNameConfidentialityReason\"]]"
   ]
  },
  {
   "cell_type": "code",
   "execution_count": 34,
   "metadata": {},
   "outputs": [
    {
     "data": {
      "text/plain": [
       "array(['AIR'], dtype=object)"
      ]
     },
     "execution_count": 34,
     "metadata": {},
     "output_type": "execute_result"
    }
   ],
   "source": [
    "df1_4.targetRelease.unique()"
   ]
  },
  {
   "cell_type": "code",
   "execution_count": 41,
   "metadata": {},
   "outputs": [
    {
     "name": "stdout",
     "output_type": "stream",
     "text": [
      "10\n",
      "10\n"
     ]
    }
   ],
   "source": [
    "print(len(df1_4.EPRTRSectorCode.unique()))\n",
    "print(len(df1_4.eprtrSectorName.unique()))"
   ]
  },
  {
   "cell_type": "code",
   "execution_count": 42,
   "metadata": {},
   "outputs": [
    {
     "data": {
      "text/plain": [
       "FacilityInspireID\n",
       "NL.RIVM/000023301.FACILITY                                                                          356\n",
       "FR.CAED/7656.FACILITY                                                                               330\n",
       "FR.CAED/10845.FACILITY                                                                              327\n",
       "UK.CAED/NRW170281.FACILITY                                                                          300\n",
       "https://data.ied_registry.omgeving.vlaanderen.be/id/productionfacility//BE.VL.000000605.FACILITY    285\n",
       "                                                                                                   ... \n",
       "IT.CAED/470142014.FACILITY                                                                            1\n",
       "IT.CAED/460402054.FACILITY                                                                            1\n",
       "IT.CAED/460102030.FACILITY                                                                            1\n",
       "IT.CAED/410432001.FACILITY                                                                            1\n",
       "UK.SEPA/200002698.Facility                                                                            1\n",
       "Name: count, Length: 26844, dtype: int64"
      ]
     },
     "execution_count": 42,
     "metadata": {},
     "output_type": "execute_result"
    }
   ],
   "source": [
    "df1_4.FacilityInspireID.value_counts()"
   ]
  },
  {
   "attachments": {},
   "cell_type": "markdown",
   "metadata": {},
   "source": [
    "## COPY DF"
   ]
  },
  {
   "cell_type": "code",
   "execution_count": 35,
   "metadata": {},
   "outputs": [],
   "source": [
    "df = df1_4.copy(deep=True)"
   ]
  },
  {
   "attachments": {},
   "cell_type": "markdown",
   "metadata": {},
   "source": [
    "Nous supprimons du dataset, les colonnes ayant trop de valeurs null comme addressConfidentialityReason, facilityNameConfidentialityReason et releasesConfidentialityReason.\n",
    "\n",
    "Les colonnes EPRTRSectorCode et EPRTRAnnexIMainActivityCode sont également retirés puisqu'elles ont la même signification que eprtrSectorName et EPRTRAnnexIMainActivityLabel.\n",
    "\n",
    "Enfin, targetRelease n'a qu'une seule valeur."
   ]
  },
  {
   "cell_type": "code",
   "execution_count": 51,
   "metadata": {},
   "outputs": [
    {
     "ename": "KeyError",
     "evalue": "\"['targetRelease', 'facilityNameConfidentialityReason', 'EPRTRSectorCode', 'EPRTRAnnexIMainActivityCode', 'addressConfidentialityReason', 'releasesConfidentialityReason'] not found in axis\"",
     "output_type": "error",
     "traceback": [
      "\u001b[0;31m---------------------------------------------------------------------------\u001b[0m",
      "\u001b[0;31mKeyError\u001b[0m                                  Traceback (most recent call last)",
      "Cell \u001b[0;32mIn[51], line 1\u001b[0m\n\u001b[0;32m----> 1\u001b[0m df \u001b[39m=\u001b[39m df\u001b[39m.\u001b[39;49mdrop(columns\u001b[39m=\u001b[39;49m[\n\u001b[1;32m      2\u001b[0m     \u001b[39m\"\u001b[39;49m\u001b[39mtargetRelease\u001b[39;49m\u001b[39m\"\u001b[39;49m, \n\u001b[1;32m      3\u001b[0m     \u001b[39m\"\u001b[39;49m\u001b[39mfacilityNameConfidentialityReason\u001b[39;49m\u001b[39m\"\u001b[39;49m, \n\u001b[1;32m      4\u001b[0m     \u001b[39m\"\u001b[39;49m\u001b[39mEPRTRSectorCode\u001b[39;49m\u001b[39m\"\u001b[39;49m, \n\u001b[1;32m      5\u001b[0m     \u001b[39m\"\u001b[39;49m\u001b[39mEPRTRAnnexIMainActivityCode\u001b[39;49m\u001b[39m\"\u001b[39;49m,\n\u001b[1;32m      6\u001b[0m     \u001b[39m\"\u001b[39;49m\u001b[39maddressConfidentialityReason\u001b[39;49m\u001b[39m\"\u001b[39;49m,\n\u001b[1;32m      7\u001b[0m     \u001b[39m\"\u001b[39;49m\u001b[39mreleasesConfidentialityReason\u001b[39;49m\u001b[39m\"\u001b[39;49m\n\u001b[1;32m      8\u001b[0m ])\n",
      "File \u001b[0;32m~/modules/environmental_impact/venv/lib/python3.11/site-packages/pandas/core/frame.py:5268\u001b[0m, in \u001b[0;36mDataFrame.drop\u001b[0;34m(self, labels, axis, index, columns, level, inplace, errors)\u001b[0m\n\u001b[1;32m   5120\u001b[0m \u001b[39mdef\u001b[39;00m \u001b[39mdrop\u001b[39m(\n\u001b[1;32m   5121\u001b[0m     \u001b[39mself\u001b[39m,\n\u001b[1;32m   5122\u001b[0m     labels: IndexLabel \u001b[39m=\u001b[39m \u001b[39mNone\u001b[39;00m,\n\u001b[0;32m   (...)\u001b[0m\n\u001b[1;32m   5129\u001b[0m     errors: IgnoreRaise \u001b[39m=\u001b[39m \u001b[39m\"\u001b[39m\u001b[39mraise\u001b[39m\u001b[39m\"\u001b[39m,\n\u001b[1;32m   5130\u001b[0m ) \u001b[39m-\u001b[39m\u001b[39m>\u001b[39m DataFrame \u001b[39m|\u001b[39m \u001b[39mNone\u001b[39;00m:\n\u001b[1;32m   5131\u001b[0m \u001b[39m    \u001b[39m\u001b[39m\"\"\"\u001b[39;00m\n\u001b[1;32m   5132\u001b[0m \u001b[39m    Drop specified labels from rows or columns.\u001b[39;00m\n\u001b[1;32m   5133\u001b[0m \n\u001b[0;32m   (...)\u001b[0m\n\u001b[1;32m   5266\u001b[0m \u001b[39m            weight  1.0     0.8\u001b[39;00m\n\u001b[1;32m   5267\u001b[0m \u001b[39m    \"\"\"\u001b[39;00m\n\u001b[0;32m-> 5268\u001b[0m     \u001b[39mreturn\u001b[39;00m \u001b[39msuper\u001b[39;49m()\u001b[39m.\u001b[39;49mdrop(\n\u001b[1;32m   5269\u001b[0m         labels\u001b[39m=\u001b[39;49mlabels,\n\u001b[1;32m   5270\u001b[0m         axis\u001b[39m=\u001b[39;49maxis,\n\u001b[1;32m   5271\u001b[0m         index\u001b[39m=\u001b[39;49mindex,\n\u001b[1;32m   5272\u001b[0m         columns\u001b[39m=\u001b[39;49mcolumns,\n\u001b[1;32m   5273\u001b[0m         level\u001b[39m=\u001b[39;49mlevel,\n\u001b[1;32m   5274\u001b[0m         inplace\u001b[39m=\u001b[39;49minplace,\n\u001b[1;32m   5275\u001b[0m         errors\u001b[39m=\u001b[39;49merrors,\n\u001b[1;32m   5276\u001b[0m     )\n",
      "File \u001b[0;32m~/modules/environmental_impact/venv/lib/python3.11/site-packages/pandas/core/generic.py:4549\u001b[0m, in \u001b[0;36mNDFrame.drop\u001b[0;34m(self, labels, axis, index, columns, level, inplace, errors)\u001b[0m\n\u001b[1;32m   4547\u001b[0m \u001b[39mfor\u001b[39;00m axis, labels \u001b[39min\u001b[39;00m axes\u001b[39m.\u001b[39mitems():\n\u001b[1;32m   4548\u001b[0m     \u001b[39mif\u001b[39;00m labels \u001b[39mis\u001b[39;00m \u001b[39mnot\u001b[39;00m \u001b[39mNone\u001b[39;00m:\n\u001b[0;32m-> 4549\u001b[0m         obj \u001b[39m=\u001b[39m obj\u001b[39m.\u001b[39;49m_drop_axis(labels, axis, level\u001b[39m=\u001b[39;49mlevel, errors\u001b[39m=\u001b[39;49merrors)\n\u001b[1;32m   4551\u001b[0m \u001b[39mif\u001b[39;00m inplace:\n\u001b[1;32m   4552\u001b[0m     \u001b[39mself\u001b[39m\u001b[39m.\u001b[39m_update_inplace(obj)\n",
      "File \u001b[0;32m~/modules/environmental_impact/venv/lib/python3.11/site-packages/pandas/core/generic.py:4591\u001b[0m, in \u001b[0;36mNDFrame._drop_axis\u001b[0;34m(self, labels, axis, level, errors, only_slice)\u001b[0m\n\u001b[1;32m   4589\u001b[0m         new_axis \u001b[39m=\u001b[39m axis\u001b[39m.\u001b[39mdrop(labels, level\u001b[39m=\u001b[39mlevel, errors\u001b[39m=\u001b[39merrors)\n\u001b[1;32m   4590\u001b[0m     \u001b[39melse\u001b[39;00m:\n\u001b[0;32m-> 4591\u001b[0m         new_axis \u001b[39m=\u001b[39m axis\u001b[39m.\u001b[39;49mdrop(labels, errors\u001b[39m=\u001b[39;49merrors)\n\u001b[1;32m   4592\u001b[0m     indexer \u001b[39m=\u001b[39m axis\u001b[39m.\u001b[39mget_indexer(new_axis)\n\u001b[1;32m   4594\u001b[0m \u001b[39m# Case for non-unique axis\u001b[39;00m\n\u001b[1;32m   4595\u001b[0m \u001b[39melse\u001b[39;00m:\n",
      "File \u001b[0;32m~/modules/environmental_impact/venv/lib/python3.11/site-packages/pandas/core/indexes/base.py:6696\u001b[0m, in \u001b[0;36mIndex.drop\u001b[0;34m(self, labels, errors)\u001b[0m\n\u001b[1;32m   6694\u001b[0m \u001b[39mif\u001b[39;00m mask\u001b[39m.\u001b[39many():\n\u001b[1;32m   6695\u001b[0m     \u001b[39mif\u001b[39;00m errors \u001b[39m!=\u001b[39m \u001b[39m\"\u001b[39m\u001b[39mignore\u001b[39m\u001b[39m\"\u001b[39m:\n\u001b[0;32m-> 6696\u001b[0m         \u001b[39mraise\u001b[39;00m \u001b[39mKeyError\u001b[39;00m(\u001b[39mf\u001b[39m\u001b[39m\"\u001b[39m\u001b[39m{\u001b[39;00m\u001b[39mlist\u001b[39m(labels[mask])\u001b[39m}\u001b[39;00m\u001b[39m not found in axis\u001b[39m\u001b[39m\"\u001b[39m)\n\u001b[1;32m   6697\u001b[0m     indexer \u001b[39m=\u001b[39m indexer[\u001b[39m~\u001b[39mmask]\n\u001b[1;32m   6698\u001b[0m \u001b[39mreturn\u001b[39;00m \u001b[39mself\u001b[39m\u001b[39m.\u001b[39mdelete(indexer)\n",
      "\u001b[0;31mKeyError\u001b[0m: \"['targetRelease', 'facilityNameConfidentialityReason', 'EPRTRSectorCode', 'EPRTRAnnexIMainActivityCode', 'addressConfidentialityReason', 'releasesConfidentialityReason'] not found in axis\""
     ]
    }
   ],
   "source": [
    "df = df.drop(columns=[\n",
    "    \"targetRelease\", \n",
    "    \"facilityNameConfidentialityReason\", \n",
    "    \"EPRTRSectorCode\", \n",
    "    \"EPRTRAnnexIMainActivityCode\",\n",
    "    \"addressConfidentialityReason\",\n",
    "    \"releasesConfidentialityReason\"\n",
    "])"
   ]
  },
  {
   "cell_type": "code",
   "execution_count": 46,
   "metadata": {},
   "outputs": [
    {
     "name": "stdout",
     "output_type": "stream",
     "text": [
      "<class 'pandas.core.frame.DataFrame'>\n",
      "RangeIndex: 324555 entries, 0 to 324554\n",
      "Data columns (total 11 columns):\n",
      " #   Column                        Non-Null Count   Dtype  \n",
      "---  ------                        --------------   -----  \n",
      " 0   countryName                   324555 non-null  object \n",
      " 1   eprtrSectorName               323540 non-null  object \n",
      " 2   EPRTRAnnexIMainActivityLabel  323540 non-null  object \n",
      " 3   FacilityInspireID             324555 non-null  object \n",
      " 4   facilityName                  324159 non-null  object \n",
      " 5   Longitude                     324555 non-null  float64\n",
      " 6   Latitude                      324555 non-null  float64\n",
      " 7   City                          324322 non-null  object \n",
      " 8   pollutant                     324555 non-null  object \n",
      " 9   emissions                     324555 non-null  float64\n",
      " 10  reportingYear                 324555 non-null  int64  \n",
      "dtypes: float64(3), int64(1), object(7)\n",
      "memory usage: 27.2+ MB\n"
     ]
    }
   ],
   "source": [
    "df.info()"
   ]
  },
  {
   "cell_type": "code",
   "execution_count": 114,
   "metadata": {},
   "outputs": [
    {
     "data": {
      "text/plain": [
       "29223"
      ]
     },
     "execution_count": 114,
     "metadata": {},
     "output_type": "execute_result"
    }
   ],
   "source": [
    "len(df.facilityName.unique())"
   ]
  },
  {
   "cell_type": "code",
   "execution_count": 47,
   "metadata": {},
   "outputs": [
    {
     "data": {
      "text/plain": [
       "countryName                        0\n",
       "eprtrSectorName                 1015\n",
       "EPRTRAnnexIMainActivityLabel    1015\n",
       "FacilityInspireID                  0\n",
       "facilityName                     396\n",
       "Longitude                          0\n",
       "Latitude                           0\n",
       "City                             233\n",
       "pollutant                          0\n",
       "emissions                          0\n",
       "reportingYear                      0\n",
       "dtype: int64"
      ]
     },
     "execution_count": 47,
     "metadata": {},
     "output_type": "execute_result"
    }
   ],
   "source": [
    "df.isnull().sum()"
   ]
  },
  {
   "cell_type": "code",
   "execution_count": 63,
   "metadata": {},
   "outputs": [
    {
     "data": {
      "text/plain": [
       "eprtrSectorName\n",
       "Intensive livestock production and aquaculture                     94249\n",
       "Energy sector                                                      80205\n",
       "Waste and wastewater management                                    36169\n",
       "Mineral industry                                                   35637\n",
       "Production and processing of metals                                27786\n",
       "Chemical industry                                                  24134\n",
       "Paper and wood production and processing                           13230\n",
       "Animal and vegetable products from the food and beverage sector     6677\n",
       "Other activities                                                    5453\n",
       "Name: count, dtype: int64"
      ]
     },
     "execution_count": 63,
     "metadata": {},
     "output_type": "execute_result"
    }
   ],
   "source": [
    "df.eprtrSectorName.value_counts()"
   ]
  },
  {
   "attachments": {},
   "cell_type": "markdown",
   "metadata": {},
   "source": [
    "## Confidential data"
   ]
  },
  {
   "cell_type": "code",
   "execution_count": 64,
   "metadata": {},
   "outputs": [],
   "source": [
    "df_confidential = df[df.facilityName == \"Confidential\"]"
   ]
  },
  {
   "cell_type": "code",
   "execution_count": 65,
   "metadata": {},
   "outputs": [
    {
     "data": {
      "text/plain": [
       "eprtrSectorName                                                \n",
       "Intensive livestock production and aquaculture                     983\n",
       "Mineral industry                                                   380\n",
       "Production and processing of metals                                160\n",
       "Energy sector                                                       69\n",
       "Animal and vegetable products from the food and beverage sector     66\n",
       "Waste and wastewater management                                     56\n",
       "Other activities                                                    40\n",
       "Chemical industry                                                   29\n",
       "Paper and wood production and processing                             7\n",
       "Name: count, dtype: int64"
      ]
     },
     "execution_count": 65,
     "metadata": {},
     "output_type": "execute_result"
    }
   ],
   "source": [
    "df_confidential[[\"eprtrSectorName\"]].value_counts()"
   ]
  },
  {
   "attachments": {},
   "cell_type": "markdown",
   "metadata": {},
   "source": [
    "## Visualisation"
   ]
  },
  {
   "attachments": {},
   "cell_type": "markdown",
   "metadata": {},
   "source": [
    "### GROUP BY POLLUTANT"
   ]
  },
  {
   "cell_type": "code",
   "execution_count": 113,
   "metadata": {},
   "outputs": [
    {
     "data": {
      "text/html": [
       "<div>\n",
       "<style scoped>\n",
       "    .dataframe tbody tr th:only-of-type {\n",
       "        vertical-align: middle;\n",
       "    }\n",
       "\n",
       "    .dataframe tbody tr th {\n",
       "        vertical-align: top;\n",
       "    }\n",
       "\n",
       "    .dataframe thead th {\n",
       "        text-align: right;\n",
       "    }\n",
       "</style>\n",
       "<table border=\"1\" class=\"dataframe\">\n",
       "  <thead>\n",
       "    <tr style=\"text-align: right;\">\n",
       "      <th></th>\n",
       "      <th>sum</th>\n",
       "      <th>mean</th>\n",
       "      <th>median</th>\n",
       "    </tr>\n",
       "    <tr>\n",
       "      <th>pollutant</th>\n",
       "      <th></th>\n",
       "      <th></th>\n",
       "      <th></th>\n",
       "    </tr>\n",
       "  </thead>\n",
       "  <tbody>\n",
       "    <tr>\n",
       "      <th>Carbon dioxide (CO2)</th>\n",
       "      <td>2.691943e+13</td>\n",
       "      <td>8.263579e+08</td>\n",
       "      <td>3.090000e+08</td>\n",
       "    </tr>\n",
       "    <tr>\n",
       "      <th>Carbon dioxide (CO2) excluding biomass</th>\n",
       "      <td>4.074543e+12</td>\n",
       "      <td>6.797703e+08</td>\n",
       "      <td>1.760000e+08</td>\n",
       "    </tr>\n",
       "    <tr>\n",
       "      <th>Carbon monoxide (CO)</th>\n",
       "      <td>4.703089e+10</td>\n",
       "      <td>5.785569e+06</td>\n",
       "      <td>1.130000e+06</td>\n",
       "    </tr>\n",
       "    <tr>\n",
       "      <th>Sulphur oxides (SOX)</th>\n",
       "      <td>3.788767e+10</td>\n",
       "      <td>2.209194e+06</td>\n",
       "      <td>4.740000e+05</td>\n",
       "    </tr>\n",
       "    <tr>\n",
       "      <th>Nitrogen oxides (NOX)</th>\n",
       "      <td>3.178179e+10</td>\n",
       "      <td>8.540737e+05</td>\n",
       "      <td>3.100000e+05</td>\n",
       "    </tr>\n",
       "    <tr>\n",
       "      <th>...</th>\n",
       "      <td>...</td>\n",
       "      <td>...</td>\n",
       "      <td>...</td>\n",
       "    </tr>\n",
       "    <tr>\n",
       "      <th>Asbestos</th>\n",
       "      <td>6.500000e+00</td>\n",
       "      <td>1.625000e+00</td>\n",
       "      <td>1.680000e+00</td>\n",
       "    </tr>\n",
       "    <tr>\n",
       "      <th>Chlordecone</th>\n",
       "      <td>4.230000e+00</td>\n",
       "      <td>4.230000e+00</td>\n",
       "      <td>4.230000e+00</td>\n",
       "    </tr>\n",
       "    <tr>\n",
       "      <th>Halogenated organic compounds (as AOX)</th>\n",
       "      <td>7.000000e-02</td>\n",
       "      <td>7.000000e-02</td>\n",
       "      <td>7.000000e-02</td>\n",
       "    </tr>\n",
       "    <tr>\n",
       "      <th>Brominated diphenylethers (PBDE)</th>\n",
       "      <td>2.000000e-02</td>\n",
       "      <td>1.000000e-02</td>\n",
       "      <td>1.000000e-02</td>\n",
       "    </tr>\n",
       "    <tr>\n",
       "      <th>CONFIDENTIAL</th>\n",
       "      <td>0.000000e+00</td>\n",
       "      <td>0.000000e+00</td>\n",
       "      <td>0.000000e+00</td>\n",
       "    </tr>\n",
       "  </tbody>\n",
       "</table>\n",
       "<p>68 rows × 3 columns</p>\n",
       "</div>"
      ],
      "text/plain": [
       "                                                 sum          mean   \n",
       "pollutant                                                            \n",
       "Carbon dioxide (CO2)                    2.691943e+13  8.263579e+08  \\\n",
       "Carbon dioxide (CO2) excluding biomass  4.074543e+12  6.797703e+08   \n",
       "Carbon monoxide (CO)                    4.703089e+10  5.785569e+06   \n",
       "Sulphur oxides (SOX)                    3.788767e+10  2.209194e+06   \n",
       "Nitrogen oxides (NOX)                   3.178179e+10  8.540737e+05   \n",
       "...                                              ...           ...   \n",
       "Asbestos                                6.500000e+00  1.625000e+00   \n",
       "Chlordecone                             4.230000e+00  4.230000e+00   \n",
       "Halogenated organic compounds (as AOX)  7.000000e-02  7.000000e-02   \n",
       "Brominated diphenylethers (PBDE)        2.000000e-02  1.000000e-02   \n",
       "CONFIDENTIAL                            0.000000e+00  0.000000e+00   \n",
       "\n",
       "                                              median  \n",
       "pollutant                                             \n",
       "Carbon dioxide (CO2)                    3.090000e+08  \n",
       "Carbon dioxide (CO2) excluding biomass  1.760000e+08  \n",
       "Carbon monoxide (CO)                    1.130000e+06  \n",
       "Sulphur oxides (SOX)                    4.740000e+05  \n",
       "Nitrogen oxides (NOX)                   3.100000e+05  \n",
       "...                                              ...  \n",
       "Asbestos                                1.680000e+00  \n",
       "Chlordecone                             4.230000e+00  \n",
       "Halogenated organic compounds (as AOX)  7.000000e-02  \n",
       "Brominated diphenylethers (PBDE)        1.000000e-02  \n",
       "CONFIDENTIAL                            0.000000e+00  \n",
       "\n",
       "[68 rows x 3 columns]"
      ]
     },
     "execution_count": 113,
     "metadata": {},
     "output_type": "execute_result"
    }
   ],
   "source": [
    "groupByPollutant = df.groupby(\"pollutant\")[\"emissions\"].agg([\"sum\", \"mean\", \"median\"]).sort_values(by=[\"sum\"], ascending=False)\n",
    "groupByPollutant"
   ]
  },
  {
   "cell_type": "code",
   "execution_count": 112,
   "metadata": {},
   "outputs": [
    {
     "data": {
      "image/png": "[encoded data removed]",
      "text/plain": [
       "<Figure size 1000x600 with 1 Axes>"
      ]
     },
     "metadata": {},
     "output_type": "display_data"
    }
   ],
   "source": [
    "plt.figure(figsize=(10, 6))\n",
    "sns.barplot(data=groupByPollutant.head(20), x=groupByPollutant[\"sum\"].head(20), y=groupByPollutant.index[:20], palette=\"coolwarm\")\n",
    "plt.title(\"Les 20 polluants ayant été le plus émis depuis 2007\")\n",
    "plt.xlabel(\"Emissions de polluants en t eqCO2\")\n",
    "plt.ylabel(\"Polluants\")\n",
    "plt.tight_layout()\n",
    "plt.show()"
   ]
  },
  {
   "attachments": {},
   "cell_type": "markdown",
   "metadata": {},
   "source": [
    "Comparer la quantité totale émise de chacun de ces polluants ne nous fournit pas d'informations utiles, à l'exception du fait que le CO2 est le gaz le plus largement rejeté dans l'atmosphère depuis 2007.\n",
    "\n",
    "L'idéal, serait de regarder l'évolution de l'émissions de polluants au fil des années ou sinon, de corréler ce dataset avec des données comme le Potentiel de Réchauffement Global (PRG) afin d'étudier le degré de dangerosité de chacun de ces gaz à effet de serre (GES)."
   ]
  },
  {
   "attachments": {},
   "cell_type": "markdown",
   "metadata": {},
   "source": [
    "### GROUP BY SECTOR"
   ]
  },
  {
   "cell_type": "code",
   "execution_count": 87,
   "metadata": {},
   "outputs": [
    {
     "data": {
      "text/plain": [
       "eprtrSectorName                                                  pollutant                    \n",
       "Animal and vegetable products from the food and beverage sector  Ammonia (NH3)                    1.278604e+07\n",
       "                                                                 Arsenic and compounds (as As)    3.238000e+02\n",
       "                                                                 Benzene                          5.705000e+04\n",
       "                                                                 CONFIDENTIAL                     0.000000e+00\n",
       "                                                                 Cadmium and compounds (as Cd)    4.104000e+02\n",
       "                                                                                                      ...     \n",
       "Waste and wastewater management                                  Trichloroethylene (TRI)          1.002520e+06\n",
       "                                                                 Trichloromethane                 3.172400e+04\n",
       "                                                                 Vinyl chloride                   5.245960e+05\n",
       "                                                                 Xylenes                          6.040000e+03\n",
       "                                                                 Zinc and compounds (as Zn)       2.237487e+05\n",
       "Name: emissions, Length: 398, dtype: float64"
      ]
     },
     "execution_count": 87,
     "metadata": {},
     "output_type": "execute_result"
    }
   ],
   "source": [
    "groupBySector = df.groupby([\"eprtrSectorName\", \"pollutant\"])[\"emissions\"].sum()\n",
    "groupBySector"
   ]
  },
  {
   "cell_type": "code",
   "execution_count": 85,
   "metadata": {},
   "outputs": [
    {
     "ename": "ValueError",
     "evalue": "The truth value of a Series is ambiguous. Use a.empty, a.bool(), a.item(), a.any() or a.all().",
     "output_type": "error",
     "traceback": [
      "\u001b[0;31m---------------------------------------------------------------------------\u001b[0m",
      "\u001b[0;31mValueError\u001b[0m                                Traceback (most recent call last)",
      "\u001b[0;32m/tmp/ipykernel_848/3039825873.py\u001b[0m in \u001b[0;36m?\u001b[0;34m()\u001b[0m\n\u001b[1;32m      1\u001b[0m \u001b[0mplt\u001b[0m\u001b[0;34m.\u001b[0m\u001b[0mfigure\u001b[0m\u001b[0;34m(\u001b[0m\u001b[0mfigsize\u001b[0m\u001b[0;34m=\u001b[0m\u001b[0;34m(\u001b[0m\u001b[0;36m10\u001b[0m\u001b[0;34m,\u001b[0m \u001b[0;36m6\u001b[0m\u001b[0;34m)\u001b[0m\u001b[0;34m)\u001b[0m\u001b[0;34m\u001b[0m\u001b[0;34m\u001b[0m\u001b[0m\n\u001b[0;32m----> 2\u001b[0;31m \u001b[0msns\u001b[0m\u001b[0;34m.\u001b[0m\u001b[0mbarplot\u001b[0m\u001b[0;34m(\u001b[0m\u001b[0mdata\u001b[0m\u001b[0;34m=\u001b[0m\u001b[0mgroupBySector\u001b[0m\u001b[0;34m,\u001b[0m \u001b[0mx\u001b[0m\u001b[0;34m=\u001b[0m\u001b[0mgroupBySector\u001b[0m\u001b[0;34m.\u001b[0m\u001b[0mvalues\u001b[0m\u001b[0;34m,\u001b[0m \u001b[0my\u001b[0m\u001b[0;34m=\u001b[0m\u001b[0mgroupBySector\u001b[0m\u001b[0;34m.\u001b[0m\u001b[0mcolumns\u001b[0m\u001b[0;34m,\u001b[0m \u001b[0mpalette\u001b[0m\u001b[0;34m=\u001b[0m\u001b[0;34m\"coolwarm\"\u001b[0m\u001b[0;34m,\u001b[0m \u001b[0mhue\u001b[0m\u001b[0;34m=\u001b[0m\u001b[0mgroupBySector\u001b[0m\u001b[0;34m.\u001b[0m\u001b[0mindex\u001b[0m\u001b[0;34m)\u001b[0m\u001b[0;34m\u001b[0m\u001b[0;34m\u001b[0m\u001b[0m\n\u001b[0m\u001b[1;32m      3\u001b[0m \u001b[0mplt\u001b[0m\u001b[0;34m.\u001b[0m\u001b[0mtitle\u001b[0m\u001b[0;34m(\u001b[0m\u001b[0;34m\"20 pays avec le plus grand taux de mortalité\"\u001b[0m\u001b[0;34m)\u001b[0m\u001b[0;34m\u001b[0m\u001b[0;34m\u001b[0m\u001b[0m\n\u001b[1;32m      4\u001b[0m \u001b[0mplt\u001b[0m\u001b[0;34m.\u001b[0m\u001b[0mxlabel\u001b[0m\u001b[0;34m(\u001b[0m\u001b[0;34m\"Taux de mortalité\"\u001b[0m\u001b[0;34m)\u001b[0m\u001b[0;34m\u001b[0m\u001b[0;34m\u001b[0m\u001b[0m\n\u001b[1;32m      5\u001b[0m \u001b[0mplt\u001b[0m\u001b[0;34m.\u001b[0m\u001b[0mylabel\u001b[0m\u001b[0;34m(\u001b[0m\u001b[0;34m\"Pays\"\u001b[0m\u001b[0;34m)\u001b[0m\u001b[0;34m\u001b[0m\u001b[0;34m\u001b[0m\u001b[0m\n",
      "\u001b[0;32m~/modules/environmental_impact/venv/lib/python3.11/site-packages/seaborn/categorical.py\u001b[0m in \u001b[0;36m?\u001b[0;34m(data, x, y, hue, order, hue_order, estimator, errorbar, n_boot, units, seed, orient, color, palette, saturation, width, errcolor, errwidth, capsize, dodge, ci, ax, **kwargs)\u001b[0m\n\u001b[1;32m   2751\u001b[0m     \u001b[0;31m# does not work in Series.agg (maybe a pandas bug?)\u001b[0m\u001b[0;34m\u001b[0m\u001b[0;34m\u001b[0m\u001b[0m\n\u001b[1;32m   2752\u001b[0m     \u001b[0;32mif\u001b[0m \u001b[0mestimator\u001b[0m \u001b[0;32mis\u001b[0m \u001b[0mlen\u001b[0m\u001b[0;34m:\u001b[0m\u001b[0;34m\u001b[0m\u001b[0;34m\u001b[0m\u001b[0m\n\u001b[1;32m   2753\u001b[0m         \u001b[0mestimator\u001b[0m \u001b[0;34m=\u001b[0m \u001b[0;34m\"size\"\u001b[0m\u001b[0;34m\u001b[0m\u001b[0;34m\u001b[0m\u001b[0m\n\u001b[1;32m   2754\u001b[0m \u001b[0;34m\u001b[0m\u001b[0m\n\u001b[0;32m-> 2755\u001b[0;31m     plotter = _BarPlotter(x, y, hue, data, order, hue_order,\n\u001b[0m\u001b[1;32m   2756\u001b[0m                           \u001b[0mestimator\u001b[0m\u001b[0;34m,\u001b[0m \u001b[0merrorbar\u001b[0m\u001b[0;34m,\u001b[0m \u001b[0mn_boot\u001b[0m\u001b[0;34m,\u001b[0m \u001b[0munits\u001b[0m\u001b[0;34m,\u001b[0m \u001b[0mseed\u001b[0m\u001b[0;34m,\u001b[0m\u001b[0;34m\u001b[0m\u001b[0;34m\u001b[0m\u001b[0m\n\u001b[1;32m   2757\u001b[0m                           \u001b[0morient\u001b[0m\u001b[0;34m,\u001b[0m \u001b[0mcolor\u001b[0m\u001b[0;34m,\u001b[0m \u001b[0mpalette\u001b[0m\u001b[0;34m,\u001b[0m \u001b[0msaturation\u001b[0m\u001b[0;34m,\u001b[0m\u001b[0;34m\u001b[0m\u001b[0;34m\u001b[0m\u001b[0m\n\u001b[1;32m   2758\u001b[0m                           width, errcolor, errwidth, capsize, dodge)\n",
      "\u001b[0;32m~/modules/environmental_impact/venv/lib/python3.11/site-packages/seaborn/categorical.py\u001b[0m in \u001b[0;36m?\u001b[0;34m(self, x, y, hue, data, order, hue_order, estimator, errorbar, n_boot, units, seed, orient, color, palette, saturation, width, errcolor, errwidth, capsize, dodge)\u001b[0m\n\u001b[1;32m   1526\u001b[0m                  \u001b[0mestimator\u001b[0m\u001b[0;34m,\u001b[0m \u001b[0merrorbar\u001b[0m\u001b[0;34m,\u001b[0m \u001b[0mn_boot\u001b[0m\u001b[0;34m,\u001b[0m \u001b[0munits\u001b[0m\u001b[0;34m,\u001b[0m \u001b[0mseed\u001b[0m\u001b[0;34m,\u001b[0m\u001b[0;34m\u001b[0m\u001b[0;34m\u001b[0m\u001b[0m\n\u001b[1;32m   1527\u001b[0m                  \u001b[0morient\u001b[0m\u001b[0;34m,\u001b[0m \u001b[0mcolor\u001b[0m\u001b[0;34m,\u001b[0m \u001b[0mpalette\u001b[0m\u001b[0;34m,\u001b[0m \u001b[0msaturation\u001b[0m\u001b[0;34m,\u001b[0m \u001b[0mwidth\u001b[0m\u001b[0;34m,\u001b[0m\u001b[0;34m\u001b[0m\u001b[0;34m\u001b[0m\u001b[0m\n\u001b[1;32m   1528\u001b[0m                  errcolor, errwidth, capsize, dodge):\n\u001b[1;32m   1529\u001b[0m         \u001b[0;34m\"\"\"Initialize the plotter.\"\"\"\u001b[0m\u001b[0;34m\u001b[0m\u001b[0;34m\u001b[0m\u001b[0m\n\u001b[0;32m-> 1530\u001b[0;31m         self.establish_variables(x, y, hue, data, orient,\n\u001b[0m\u001b[1;32m   1531\u001b[0m                                  order, hue_order, units)\n\u001b[1;32m   1532\u001b[0m         \u001b[0mself\u001b[0m\u001b[0;34m.\u001b[0m\u001b[0mestablish_colors\u001b[0m\u001b[0;34m(\u001b[0m\u001b[0mcolor\u001b[0m\u001b[0;34m,\u001b[0m \u001b[0mpalette\u001b[0m\u001b[0;34m,\u001b[0m \u001b[0msaturation\u001b[0m\u001b[0;34m)\u001b[0m\u001b[0;34m\u001b[0m\u001b[0;34m\u001b[0m\u001b[0m\n\u001b[1;32m   1533\u001b[0m         \u001b[0mself\u001b[0m\u001b[0;34m.\u001b[0m\u001b[0mestimate_statistic\u001b[0m\u001b[0;34m(\u001b[0m\u001b[0mestimator\u001b[0m\u001b[0;34m,\u001b[0m \u001b[0merrorbar\u001b[0m\u001b[0;34m,\u001b[0m \u001b[0mn_boot\u001b[0m\u001b[0;34m,\u001b[0m \u001b[0mseed\u001b[0m\u001b[0;34m)\u001b[0m\u001b[0;34m\u001b[0m\u001b[0;34m\u001b[0m\u001b[0m\n",
      "\u001b[0;32m~/modules/environmental_impact/venv/lib/python3.11/site-packages/seaborn/categorical.py\u001b[0m in \u001b[0;36m?\u001b[0;34m(self, x, y, hue, data, orient, order, hue_order, units)\u001b[0m\n\u001b[1;32m    540\u001b[0m                     \u001b[0merr\u001b[0m \u001b[0;34m=\u001b[0m \u001b[0;34mf\"Could not interpret input '{var}'\"\u001b[0m\u001b[0;34m\u001b[0m\u001b[0;34m\u001b[0m\u001b[0m\n\u001b[1;32m    541\u001b[0m                     \u001b[0;32mraise\u001b[0m \u001b[0mValueError\u001b[0m\u001b[0;34m(\u001b[0m\u001b[0merr\u001b[0m\u001b[0;34m)\u001b[0m\u001b[0;34m\u001b[0m\u001b[0;34m\u001b[0m\u001b[0m\n\u001b[1;32m    542\u001b[0m \u001b[0;34m\u001b[0m\u001b[0m\n\u001b[1;32m    543\u001b[0m             \u001b[0;31m# Figure out the plotting orientation\u001b[0m\u001b[0;34m\u001b[0m\u001b[0;34m\u001b[0m\u001b[0m\n\u001b[0;32m--> 544\u001b[0;31m             orient = infer_orient(\n\u001b[0m\u001b[1;32m    545\u001b[0m                 \u001b[0mx\u001b[0m\u001b[0;34m,\u001b[0m \u001b[0my\u001b[0m\u001b[0;34m,\u001b[0m \u001b[0morient\u001b[0m\u001b[0;34m,\u001b[0m \u001b[0mrequire_numeric\u001b[0m\u001b[0;34m=\u001b[0m\u001b[0mself\u001b[0m\u001b[0;34m.\u001b[0m\u001b[0mrequire_numeric\u001b[0m\u001b[0;34m\u001b[0m\u001b[0;34m\u001b[0m\u001b[0m\n\u001b[1;32m    546\u001b[0m             )\n\u001b[1;32m    547\u001b[0m \u001b[0;34m\u001b[0m\u001b[0m\n",
      "\u001b[0;32m~/modules/environmental_impact/venv/lib/python3.11/site-packages/seaborn/_oldcore.py\u001b[0m in \u001b[0;36m?\u001b[0;34m(x, y, orient, require_numeric)\u001b[0m\n\u001b[1;32m   1581\u001b[0m \u001b[0;34m\u001b[0m\u001b[0m\n\u001b[1;32m   1582\u001b[0m     \"\"\"\n\u001b[1;32m   1583\u001b[0m \u001b[0;34m\u001b[0m\u001b[0m\n\u001b[1;32m   1584\u001b[0m     \u001b[0mx_type\u001b[0m \u001b[0;34m=\u001b[0m \u001b[0;32mNone\u001b[0m \u001b[0;32mif\u001b[0m \u001b[0mx\u001b[0m \u001b[0;32mis\u001b[0m \u001b[0;32mNone\u001b[0m \u001b[0;32melse\u001b[0m \u001b[0mvariable_type\u001b[0m\u001b[0;34m(\u001b[0m\u001b[0mx\u001b[0m\u001b[0;34m)\u001b[0m\u001b[0;34m\u001b[0m\u001b[0;34m\u001b[0m\u001b[0m\n\u001b[0;32m-> 1585\u001b[0;31m     \u001b[0my_type\u001b[0m \u001b[0;34m=\u001b[0m \u001b[0;32mNone\u001b[0m \u001b[0;32mif\u001b[0m \u001b[0my\u001b[0m \u001b[0;32mis\u001b[0m \u001b[0;32mNone\u001b[0m \u001b[0;32melse\u001b[0m \u001b[0mvariable_type\u001b[0m\u001b[0;34m(\u001b[0m\u001b[0my\u001b[0m\u001b[0;34m)\u001b[0m\u001b[0;34m\u001b[0m\u001b[0;34m\u001b[0m\u001b[0m\n\u001b[0m\u001b[1;32m   1586\u001b[0m \u001b[0;34m\u001b[0m\u001b[0m\n\u001b[1;32m   1587\u001b[0m     \u001b[0mnonnumeric_dv_error\u001b[0m \u001b[0;34m=\u001b[0m \u001b[0;34m\"{} orientation requires numeric `{}` variable.\"\u001b[0m\u001b[0;34m\u001b[0m\u001b[0;34m\u001b[0m\u001b[0m\n\u001b[1;32m   1588\u001b[0m     \u001b[0msingle_var_warning\u001b[0m \u001b[0;34m=\u001b[0m \u001b[0;34m\"{} orientation ignored with only `{}` specified.\"\u001b[0m\u001b[0;34m\u001b[0m\u001b[0;34m\u001b[0m\u001b[0m\n",
      "\u001b[0;32m~/modules/environmental_impact/venv/lib/python3.11/site-packages/seaborn/_oldcore.py\u001b[0m in \u001b[0;36m?\u001b[0;34m(vector, boolean_type)\u001b[0m\n\u001b[1;32m   1498\u001b[0m     \u001b[0;32mif\u001b[0m \u001b[0mpd\u001b[0m\u001b[0;34m.\u001b[0m\u001b[0mapi\u001b[0m\u001b[0;34m.\u001b[0m\u001b[0mtypes\u001b[0m\u001b[0;34m.\u001b[0m\u001b[0mis_categorical_dtype\u001b[0m\u001b[0;34m(\u001b[0m\u001b[0mvector\u001b[0m\u001b[0;34m)\u001b[0m\u001b[0;34m:\u001b[0m\u001b[0;34m\u001b[0m\u001b[0;34m\u001b[0m\u001b[0m\n\u001b[1;32m   1499\u001b[0m         \u001b[0;32mreturn\u001b[0m \u001b[0mVariableType\u001b[0m\u001b[0;34m(\u001b[0m\u001b[0;34m\"categorical\"\u001b[0m\u001b[0;34m)\u001b[0m\u001b[0;34m\u001b[0m\u001b[0;34m\u001b[0m\u001b[0m\n\u001b[1;32m   1500\u001b[0m \u001b[0;34m\u001b[0m\u001b[0m\n\u001b[1;32m   1501\u001b[0m     \u001b[0;31m# Special-case all-na data, which is always \"numeric\"\u001b[0m\u001b[0;34m\u001b[0m\u001b[0;34m\u001b[0m\u001b[0m\n\u001b[0;32m-> 1502\u001b[0;31m     \u001b[0;32mif\u001b[0m \u001b[0mpd\u001b[0m\u001b[0;34m.\u001b[0m\u001b[0misna\u001b[0m\u001b[0;34m(\u001b[0m\u001b[0mvector\u001b[0m\u001b[0;34m)\u001b[0m\u001b[0;34m.\u001b[0m\u001b[0mall\u001b[0m\u001b[0;34m(\u001b[0m\u001b[0;34m)\u001b[0m\u001b[0;34m:\u001b[0m\u001b[0;34m\u001b[0m\u001b[0;34m\u001b[0m\u001b[0m\n\u001b[0m\u001b[1;32m   1503\u001b[0m         \u001b[0;32mreturn\u001b[0m \u001b[0mVariableType\u001b[0m\u001b[0;34m(\u001b[0m\u001b[0;34m\"numeric\"\u001b[0m\u001b[0;34m)\u001b[0m\u001b[0;34m\u001b[0m\u001b[0;34m\u001b[0m\u001b[0m\n\u001b[1;32m   1504\u001b[0m \u001b[0;34m\u001b[0m\u001b[0m\n\u001b[1;32m   1505\u001b[0m     \u001b[0;31m# Special-case binary/boolean data, allow caller to determine\u001b[0m\u001b[0;34m\u001b[0m\u001b[0;34m\u001b[0m\u001b[0m\n",
      "\u001b[0;32m~/modules/environmental_impact/venv/lib/python3.11/site-packages/pandas/core/generic.py\u001b[0m in \u001b[0;36m?\u001b[0;34m(self)\u001b[0m\n\u001b[1;32m   1464\u001b[0m     \u001b[0;34m@\u001b[0m\u001b[0mfinal\u001b[0m\u001b[0;34m\u001b[0m\u001b[0;34m\u001b[0m\u001b[0m\n\u001b[1;32m   1465\u001b[0m     \u001b[0;32mdef\u001b[0m \u001b[0m__nonzero__\u001b[0m\u001b[0;34m(\u001b[0m\u001b[0mself\u001b[0m\u001b[0;34m)\u001b[0m \u001b[0;34m->\u001b[0m \u001b[0mNoReturn\u001b[0m\u001b[0;34m:\u001b[0m\u001b[0;34m\u001b[0m\u001b[0;34m\u001b[0m\u001b[0m\n\u001b[0;32m-> 1466\u001b[0;31m         raise ValueError(\n\u001b[0m\u001b[1;32m   1467\u001b[0m             \u001b[0;34mf\"The truth value of a {type(self).__name__} is ambiguous. \"\u001b[0m\u001b[0;34m\u001b[0m\u001b[0;34m\u001b[0m\u001b[0m\n\u001b[1;32m   1468\u001b[0m             \u001b[0;34m\"Use a.empty, a.bool(), a.item(), a.any() or a.all().\"\u001b[0m\u001b[0;34m\u001b[0m\u001b[0;34m\u001b[0m\u001b[0m\n\u001b[1;32m   1469\u001b[0m         )\n",
      "\u001b[0;31mValueError\u001b[0m: The truth value of a Series is ambiguous. Use a.empty, a.bool(), a.item(), a.any() or a.all()."
     ]
    },
    {
     "data": {
      "text/plain": [
       "<Figure size 1000x600 with 0 Axes>"
      ]
     },
     "metadata": {},
     "output_type": "display_data"
    }
   ],
   "source": [
    "plt.figure(figsize=(10, 6))\n",
    "sns.barplot(data=groupBySector, x=groupBySector.values, y=groupBySector.columns, palette=\"coolwarm\", hue=groupBySector.index)\n",
    "plt.title(\"20 pays avec le plus grand taux de mortalité\")\n",
    "plt.xlabel(\"Taux de mortalité\")\n",
    "plt.ylabel(\"Pays\")\n",
    "plt.tight_layout()\n",
    "plt.show()"
   ]
  },
  {
   "cell_type": "code",
   "execution_count": 66,
   "metadata": {},
   "outputs": [],
   "source": [
    "groupConfidentialBySector = df_confidential.groupby([\"eprtrSectorName\", \"pollutant\"])[\"emissions\"].sum()"
   ]
  },
  {
   "cell_type": "code",
   "execution_count": 68,
   "metadata": {},
   "outputs": [
    {
     "data": {
      "text/plain": [
       "eprtrSectorName                                                  pollutant                       \n",
       "Animal and vegetable products from the food and beverage sector  Ammonia (NH3)                       1.063000e+05\n",
       "                                                                 Carbon dioxide (CO2)                3.763741e+09\n",
       "                                                                 Chlorofluorocarbons (CFCs)          4.900000e+01\n",
       "                                                                 Hydro-fluorocarbons (HFCS)          3.030700e+03\n",
       "                                                                 Hydrochlorofluorocarbons (HCFCs)    3.980000e+02\n",
       "                                                                                                         ...     \n",
       "Waste and wastewater management                                  Chlorofluorocarbons (CFCs)          6.837480e+01\n",
       "                                                                 Hydrochlorofluorocarbons (HCFCs)    9.091990e+01\n",
       "                                                                 Methane (CH4)                       2.101520e+07\n",
       "                                                                 Nickel and compounds (as Ni)        1.215355e+02\n",
       "                                                                 Nitrogen oxides (NOX)               5.801281e+05\n",
       "Name: emissions, Length: 70, dtype: float64"
      ]
     },
     "execution_count": 68,
     "metadata": {},
     "output_type": "execute_result"
    }
   ],
   "source": [
    "groupConfidentialBySector"
   ]
  },
  {
   "attachments": {},
   "cell_type": "markdown",
   "metadata": {},
   "source": [
    "### GROUP BY ACTIVITY"
   ]
  },
  {
   "cell_type": "code",
   "execution_count": 57,
   "metadata": {},
   "outputs": [
    {
     "data": {
      "text/plain": [
       "EPRTRAnnexIMainActivityLabel                                                                                                                                                                                                                                    pollutant                    \n",
       "Chemical installations for the production on an industrial scale of basic inorganic chemicals. Note to reporters, use Level 3 activity e.g. 4(b)(i), in preference to 4(b). Level 2 activity class (i.e. 4(b)) only to be used where Level 3 is not available.  1,2-dichloroethane (DCE-1,2)         7740.0\n",
       "                                                                                                                                                                                                                                                                Ammonia (NH3)                    60351831.0\n",
       "                                                                                                                                                                                                                                                                Benzene                            288750.0\n",
       "                                                                                                                                                                                                                                                                CONFIDENTIAL                            0.0\n",
       "                                                                                                                                                                                                                                                                Cadmium and compounds (as Cd)        3487.3\n",
       "                                                                                                                                                                                                                                                                                                    ...    \n",
       "Urban waste-water treatment plants                                                                                                                                                                                                                              Tetrachloromethane (TCM)              737.0\n",
       "                                                                                                                                                                                                                                                                Trichlorobenzenes (TCB)               257.6\n",
       "                                                                                                                                                                                                                                                                Trichloromethane                    15250.0\n",
       "                                                                                                                                                                                                                                                                Vinyl chloride                       3200.0\n",
       "                                                                                                                                                                                                                                                                Zinc and compounds (as Zn)           1107.0\n",
       "Name: emissions, Length: 1885, dtype: float64"
      ]
     },
     "execution_count": 57,
     "metadata": {},
     "output_type": "execute_result"
    }
   ],
   "source": [
    "groupByActivity = df.groupby([\"EPRTRAnnexIMainActivityLabel\", \"pollutant\"])[\"emissions\"].sum()\n",
    "groupByActivity"
   ]
  },
  {
   "cell_type": "code",
   "execution_count": null,
   "metadata": {},
   "outputs": [],
   "source": [
    "groupByBusiness = df.groupby([\"EPRTRAnnexIMainActivityLabel\", \"pollutant\"])[\"emissions\"].sum()\n",
    "groupByBusiness"
   ]
  },
  {
   "cell_type": "code",
   "execution_count": 59,
   "metadata": {},
   "outputs": [
    {
     "data": {
      "text/plain": [
       "facilityName\n",
       "Confidential              1790\n",
       "Enel Produzione S.p.A.     850\n",
       "Versalis S.p.A.            405\n",
       "Tata Steel IJmuiden BV     356\n",
       "Aurubis AG                 330\n",
       "                          ... \n",
       "SCEA DE KERLAOUENAN          1\n",
       "SCEA NOVA LAND               1\n",
       "SAS KERJEAN LA GARENNE       1\n",
       "SCEA DES TROIS VALLEES       1\n",
       "Dryfeholm Farm               1\n",
       "Name: count, Length: 29222, dtype: int64"
      ]
     },
     "execution_count": 59,
     "metadata": {},
     "output_type": "execute_result"
    }
   ],
   "source": [
    "df.facilityName.value_counts()"
   ]
  },
  {
   "cell_type": "code",
   "execution_count": 58,
   "metadata": {},
   "outputs": [
    {
     "data": {
      "text/html": [
       "<div>\n",
       "<style scoped>\n",
       "    .dataframe tbody tr th:only-of-type {\n",
       "        vertical-align: middle;\n",
       "    }\n",
       "\n",
       "    .dataframe tbody tr th {\n",
       "        vertical-align: top;\n",
       "    }\n",
       "\n",
       "    .dataframe thead th {\n",
       "        text-align: right;\n",
       "    }\n",
       "</style>\n",
       "<table border=\"1\" class=\"dataframe\">\n",
       "  <thead>\n",
       "    <tr style=\"text-align: right;\">\n",
       "      <th></th>\n",
       "      <th>countryName</th>\n",
       "      <th>eprtrSectorName</th>\n",
       "      <th>EPRTRAnnexIMainActivityLabel</th>\n",
       "      <th>FacilityInspireID</th>\n",
       "      <th>facilityName</th>\n",
       "      <th>Longitude</th>\n",
       "      <th>Latitude</th>\n",
       "      <th>City</th>\n",
       "      <th>pollutant</th>\n",
       "      <th>emissions</th>\n",
       "      <th>reportingYear</th>\n",
       "    </tr>\n",
       "  </thead>\n",
       "  <tbody>\n",
       "    <tr>\n",
       "      <th>0</th>\n",
       "      <td>Austria</td>\n",
       "      <td>Chemical industry</td>\n",
       "      <td>Chemical installations for the production on a...</td>\n",
       "      <td>AT.CAED/9008390392737.FACILITY</td>\n",
       "      <td>Nufarm GmbH &amp; CO KG</td>\n",
       "      <td>14.336056</td>\n",
       "      <td>48.290943</td>\n",
       "      <td>Linz</td>\n",
       "      <td>1,2-dichloroethane (DCE-1,2)</td>\n",
       "      <td>3300.0</td>\n",
       "      <td>2007</td>\n",
       "    </tr>\n",
       "    <tr>\n",
       "      <th>1</th>\n",
       "      <td>Austria</td>\n",
       "      <td>Other activities</td>\n",
       "      <td>Installations for the surface treatment of sub...</td>\n",
       "      <td>AT.CAED/9008390396414.FACILITY</td>\n",
       "      <td>MAGNA STEYR Fahrzeugtechnik AG&amp;Co KG</td>\n",
       "      <td>15.477778</td>\n",
       "      <td>47.019170</td>\n",
       "      <td>Graz,07.Bez.:Liebenau</td>\n",
       "      <td>Non-methane volatile organic compounds (NMVOC)</td>\n",
       "      <td>170000.0</td>\n",
       "      <td>2007</td>\n",
       "    </tr>\n",
       "    <tr>\n",
       "      <th>2</th>\n",
       "      <td>Austria</td>\n",
       "      <td>Paper and wood production and processing</td>\n",
       "      <td>Industrial plants for the production of paper ...</td>\n",
       "      <td>AT.CAED/9008390397176.FACILITY</td>\n",
       "      <td>Fritz EGGER GmbH &amp; Co. OG</td>\n",
       "      <td>15.691833</td>\n",
       "      <td>48.259556</td>\n",
       "      <td>Unterradlberg</td>\n",
       "      <td>Carbon dioxide (CO2)</td>\n",
       "      <td>228000000.0</td>\n",
       "      <td>2007</td>\n",
       "    </tr>\n",
       "    <tr>\n",
       "      <th>3</th>\n",
       "      <td>Austria</td>\n",
       "      <td>Paper and wood production and processing</td>\n",
       "      <td>Industrial plants for the production of paper ...</td>\n",
       "      <td>AT.CAED/9008390397176.FACILITY</td>\n",
       "      <td>Fritz EGGER GmbH &amp; Co. OG</td>\n",
       "      <td>15.691833</td>\n",
       "      <td>48.259556</td>\n",
       "      <td>Unterradlberg</td>\n",
       "      <td>Nitrogen oxides (NOX)</td>\n",
       "      <td>311000.0</td>\n",
       "      <td>2007</td>\n",
       "    </tr>\n",
       "    <tr>\n",
       "      <th>4</th>\n",
       "      <td>Austria</td>\n",
       "      <td>Mineral industry</td>\n",
       "      <td>Installations for the production of cement cli...</td>\n",
       "      <td>AT.CAED/9008390397220.FACILITY</td>\n",
       "      <td>voestalpine Stahl GmbH</td>\n",
       "      <td>14.159778</td>\n",
       "      <td>47.807083</td>\n",
       "      <td>Klaus an der Pyhrnbahn</td>\n",
       "      <td>Carbon dioxide (CO2)</td>\n",
       "      <td>329000000.0</td>\n",
       "      <td>2007</td>\n",
       "    </tr>\n",
       "    <tr>\n",
       "      <th>...</th>\n",
       "      <td>...</td>\n",
       "      <td>...</td>\n",
       "      <td>...</td>\n",
       "      <td>...</td>\n",
       "      <td>...</td>\n",
       "      <td>...</td>\n",
       "      <td>...</td>\n",
       "      <td>...</td>\n",
       "      <td>...</td>\n",
       "      <td>...</td>\n",
       "      <td>...</td>\n",
       "    </tr>\n",
       "    <tr>\n",
       "      <th>324550</th>\n",
       "      <td>United Kingdom</td>\n",
       "      <td>Animal and vegetable products from the food an...</td>\n",
       "      <td>Treatment and processing intended for the prod...</td>\n",
       "      <td>UK.SEPA/200002640.Facility</td>\n",
       "      <td>United Biscuits Glasgow</td>\n",
       "      <td>-4.183770</td>\n",
       "      <td>55.844670</td>\n",
       "      <td>Glasgow</td>\n",
       "      <td>Hydro-fluorocarbons (HFCS)</td>\n",
       "      <td>330.0</td>\n",
       "      <td>2019</td>\n",
       "    </tr>\n",
       "    <tr>\n",
       "      <th>324551</th>\n",
       "      <td>United Kingdom</td>\n",
       "      <td>Waste and wastewater management</td>\n",
       "      <td>Installations for the incineration of non-haza...</td>\n",
       "      <td>UK.SEPA/200002651.Facility</td>\n",
       "      <td>Millerhill Recycling &amp; Energy Recovery Centre</td>\n",
       "      <td>-3.085940</td>\n",
       "      <td>55.925070</td>\n",
       "      <td>Millerhill, Dalkeith</td>\n",
       "      <td>Carbon dioxide (CO2)</td>\n",
       "      <td>132000000.0</td>\n",
       "      <td>2019</td>\n",
       "    </tr>\n",
       "    <tr>\n",
       "      <th>324552</th>\n",
       "      <td>United Kingdom</td>\n",
       "      <td>Waste and wastewater management</td>\n",
       "      <td>Installations for the incineration of non-haza...</td>\n",
       "      <td>UK.SEPA/200002651.Facility</td>\n",
       "      <td>Millerhill Recycling &amp; Energy Recovery Centre</td>\n",
       "      <td>-3.085940</td>\n",
       "      <td>55.925070</td>\n",
       "      <td>Millerhill, Dalkeith</td>\n",
       "      <td>Nitrogen oxides (NOX)</td>\n",
       "      <td>175000.0</td>\n",
       "      <td>2019</td>\n",
       "    </tr>\n",
       "    <tr>\n",
       "      <th>324553</th>\n",
       "      <td>United Kingdom</td>\n",
       "      <td>Intensive livestock production and aquaculture</td>\n",
       "      <td>Installations for the intensive rearing of pou...</td>\n",
       "      <td>UK.SEPA/200002676.Facility</td>\n",
       "      <td>Elrig Farm, Port William, Newton Stewart</td>\n",
       "      <td>-4.604860</td>\n",
       "      <td>54.800200</td>\n",
       "      <td>Port William, Newton Stewart</td>\n",
       "      <td>Ammonia (NH3)</td>\n",
       "      <td>11500.0</td>\n",
       "      <td>2019</td>\n",
       "    </tr>\n",
       "    <tr>\n",
       "      <th>324554</th>\n",
       "      <td>United Kingdom</td>\n",
       "      <td>Intensive livestock production and aquaculture</td>\n",
       "      <td>Installations for the intensive rearing of pig...</td>\n",
       "      <td>UK.SEPA/200002698.Facility</td>\n",
       "      <td>Dryfeholm Farm</td>\n",
       "      <td>-3.394520</td>\n",
       "      <td>55.139750</td>\n",
       "      <td>Locherbie</td>\n",
       "      <td>Ammonia (NH3)</td>\n",
       "      <td>10700.0</td>\n",
       "      <td>2019</td>\n",
       "    </tr>\n",
       "  </tbody>\n",
       "</table>\n",
       "<p>324555 rows × 11 columns</p>\n",
       "</div>"
      ],
      "text/plain": [
       "           countryName                                    eprtrSectorName   \n",
       "0              Austria                                  Chemical industry  \\\n",
       "1              Austria                                   Other activities   \n",
       "2              Austria           Paper and wood production and processing   \n",
       "3              Austria           Paper and wood production and processing   \n",
       "4              Austria                                   Mineral industry   \n",
       "...                ...                                                ...   \n",
       "324550  United Kingdom  Animal and vegetable products from the food an...   \n",
       "324551  United Kingdom                    Waste and wastewater management   \n",
       "324552  United Kingdom                    Waste and wastewater management   \n",
       "324553  United Kingdom     Intensive livestock production and aquaculture   \n",
       "324554  United Kingdom     Intensive livestock production and aquaculture   \n",
       "\n",
       "                             EPRTRAnnexIMainActivityLabel   \n",
       "0       Chemical installations for the production on a...  \\\n",
       "1       Installations for the surface treatment of sub...   \n",
       "2       Industrial plants for the production of paper ...   \n",
       "3       Industrial plants for the production of paper ...   \n",
       "4       Installations for the production of cement cli...   \n",
       "...                                                   ...   \n",
       "324550  Treatment and processing intended for the prod...   \n",
       "324551  Installations for the incineration of non-haza...   \n",
       "324552  Installations for the incineration of non-haza...   \n",
       "324553  Installations for the intensive rearing of pou...   \n",
       "324554  Installations for the intensive rearing of pig...   \n",
       "\n",
       "                     FacilityInspireID   \n",
       "0       AT.CAED/9008390392737.FACILITY  \\\n",
       "1       AT.CAED/9008390396414.FACILITY   \n",
       "2       AT.CAED/9008390397176.FACILITY   \n",
       "3       AT.CAED/9008390397176.FACILITY   \n",
       "4       AT.CAED/9008390397220.FACILITY   \n",
       "...                                ...   \n",
       "324550      UK.SEPA/200002640.Facility   \n",
       "324551      UK.SEPA/200002651.Facility   \n",
       "324552      UK.SEPA/200002651.Facility   \n",
       "324553      UK.SEPA/200002676.Facility   \n",
       "324554      UK.SEPA/200002698.Facility   \n",
       "\n",
       "                                         facilityName  Longitude   Latitude   \n",
       "0                                 Nufarm GmbH & CO KG  14.336056  48.290943  \\\n",
       "1                MAGNA STEYR Fahrzeugtechnik AG&Co KG  15.477778  47.019170   \n",
       "2                           Fritz EGGER GmbH & Co. OG  15.691833  48.259556   \n",
       "3                           Fritz EGGER GmbH & Co. OG  15.691833  48.259556   \n",
       "4                              voestalpine Stahl GmbH  14.159778  47.807083   \n",
       "...                                               ...        ...        ...   \n",
       "324550                        United Biscuits Glasgow  -4.183770  55.844670   \n",
       "324551  Millerhill Recycling & Energy Recovery Centre  -3.085940  55.925070   \n",
       "324552  Millerhill Recycling & Energy Recovery Centre  -3.085940  55.925070   \n",
       "324553       Elrig Farm, Port William, Newton Stewart  -4.604860  54.800200   \n",
       "324554                                 Dryfeholm Farm  -3.394520  55.139750   \n",
       "\n",
       "                                City   \n",
       "0                               Linz  \\\n",
       "1              Graz,07.Bez.:Liebenau   \n",
       "2                      Unterradlberg   \n",
       "3                      Unterradlberg   \n",
       "4             Klaus an der Pyhrnbahn   \n",
       "...                              ...   \n",
       "324550                       Glasgow   \n",
       "324551          Millerhill, Dalkeith   \n",
       "324552          Millerhill, Dalkeith   \n",
       "324553  Port William, Newton Stewart   \n",
       "324554                     Locherbie   \n",
       "\n",
       "                                             pollutant    emissions   \n",
       "0                         1,2-dichloroethane (DCE-1,2)       3300.0  \\\n",
       "1       Non-methane volatile organic compounds (NMVOC)     170000.0   \n",
       "2                                 Carbon dioxide (CO2)  228000000.0   \n",
       "3                                Nitrogen oxides (NOX)     311000.0   \n",
       "4                                 Carbon dioxide (CO2)  329000000.0   \n",
       "...                                                ...          ...   \n",
       "324550                      Hydro-fluorocarbons (HFCS)        330.0   \n",
       "324551                            Carbon dioxide (CO2)  132000000.0   \n",
       "324552                           Nitrogen oxides (NOX)     175000.0   \n",
       "324553                                   Ammonia (NH3)      11500.0   \n",
       "324554                                   Ammonia (NH3)      10700.0   \n",
       "\n",
       "        reportingYear  \n",
       "0                2007  \n",
       "1                2007  \n",
       "2                2007  \n",
       "3                2007  \n",
       "4                2007  \n",
       "...               ...  \n",
       "324550           2019  \n",
       "324551           2019  \n",
       "324552           2019  \n",
       "324553           2019  \n",
       "324554           2019  \n",
       "\n",
       "[324555 rows x 11 columns]"
      ]
     },
     "execution_count": 58,
     "metadata": {},
     "output_type": "execute_result"
    }
   ],
   "source": [
    "df"
   ]
  }
 ],
 "metadata": {
  "kernelspec": {
   "display_name": "Python 3",
   "language": "python",
   "name": "python3"
  },
  "language_info": {
   "codemirror_mode": {
    "name": "ipython",
    "version": 3
   },
   "file_extension": ".py",
   "mimetype": "text/x-python",
   "name": "python",
   "nbconvert_exporter": "python",
   "pygments_lexer": "ipython3",
   "version": "3.11.1"
  }
 },
 "nbformat": 4,
 "nbformat_minor": 0
}
