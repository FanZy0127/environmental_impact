{
 "cells": [
  {
   "cell_type": "code",
   "execution_count": 1,
   "outputs": [],
   "source": [
    "import sys\n",
    "sys.path.append('../../')\n",
    "from config.settings import settings\n",
    "import dtale as dt\n",
    "import pandas as pd\n",
    "import seaborn as sns\n",
    "import plotly.express as px\n",
    "import matplotlib.pyplot as plt\n",
    "from sklearn.pipeline import Pipeline\n",
    "from sklearn.decomposition import PCA\n",
    "from sklearn.neural_network import MLPRegressor\n",
    "from sklearn.linear_model import LinearRegression\n",
    "from sklearn.ensemble import RandomForestRegressor\n",
    "from sklearn.compose import TransformedTargetRegressor\n",
    "from sklearn.metrics import mean_squared_error, r2_score\n",
    "from sklearn.preprocessing import StandardScaler, MinMaxScaler, KBinsDiscretizer\n",
    "from sklearn.model_selection import train_test_split, GridSearchCV"
   ],
   "metadata": {
    "collapsed": false
   }
  },
  {
   "cell_type": "code",
   "execution_count": 2,
   "outputs": [
    {
     "data": {
      "text/plain": "'../../datasets/european_companies/CSV/F1_1_Total Releases at National Level into Air.csv'"
     },
     "execution_count": 2,
     "metadata": {},
     "output_type": "execute_result"
    }
   ],
   "source": [
    "DATASETS_BASE = settings.MODULES_TO_DATASETS_PATH\n",
    "data_F1_1 = DATASETS_BASE + settings.DATA_EU_AIR_F1_1\n",
    "data_F1_1"
   ],
   "metadata": {
    "collapsed": false
   }
  },
  {
   "cell_type": "code",
   "execution_count": 3,
   "outputs": [],
   "source": [
    "df = pd.read_csv(data_F1_1)"
   ],
   "metadata": {
    "collapsed": false
   }
  },
  {
   "cell_type": "code",
   "execution_count": 4,
   "outputs": [
    {
     "data": {
      "text/plain": "  countryName                       pollutant  reportingYear    emissions\n0     Austria            Carbon monoxide (CO)           2007  163261000.0\n1     Austria    Copper and compounds (as Cu)           2007        380.0\n2     Austria      Zinc and compounds (as Zn)           2007      18820.0\n3     Austria  Chromium and compounds (as Cr)           2008        389.0\n4     Austria           Nitrogen oxides (NOX)           2009   19103000.0",
      "text/html": "<div>\n<style scoped>\n    .dataframe tbody tr th:only-of-type {\n        vertical-align: middle;\n    }\n\n    .dataframe tbody tr th {\n        vertical-align: top;\n    }\n\n    .dataframe thead th {\n        text-align: right;\n    }\n</style>\n<table border=\"1\" class=\"dataframe\">\n  <thead>\n    <tr style=\"text-align: right;\">\n      <th></th>\n      <th>countryName</th>\n      <th>pollutant</th>\n      <th>reportingYear</th>\n      <th>emissions</th>\n    </tr>\n  </thead>\n  <tbody>\n    <tr>\n      <th>0</th>\n      <td>Austria</td>\n      <td>Carbon monoxide (CO)</td>\n      <td>2007</td>\n      <td>163261000.0</td>\n    </tr>\n    <tr>\n      <th>1</th>\n      <td>Austria</td>\n      <td>Copper and compounds (as Cu)</td>\n      <td>2007</td>\n      <td>380.0</td>\n    </tr>\n    <tr>\n      <th>2</th>\n      <td>Austria</td>\n      <td>Zinc and compounds (as Zn)</td>\n      <td>2007</td>\n      <td>18820.0</td>\n    </tr>\n    <tr>\n      <th>3</th>\n      <td>Austria</td>\n      <td>Chromium and compounds (as Cr)</td>\n      <td>2008</td>\n      <td>389.0</td>\n    </tr>\n    <tr>\n      <th>4</th>\n      <td>Austria</td>\n      <td>Nitrogen oxides (NOX)</td>\n      <td>2009</td>\n      <td>19103000.0</td>\n    </tr>\n  </tbody>\n</table>\n</div>"
     },
     "execution_count": 4,
     "metadata": {},
     "output_type": "execute_result"
    }
   ],
   "source": [
    "df.head()"
   ],
   "metadata": {
    "collapsed": false
   }
  },
  {
   "cell_type": "code",
   "execution_count": 5,
   "outputs": [
    {
     "data": {
      "text/plain": "<bound method NDFrame.describe of           countryName                       pollutant  reportingYear   \n0             Austria            Carbon monoxide (CO)           2007  \\\n1             Austria    Copper and compounds (as Cu)           2007   \n2             Austria      Zinc and compounds (as Zn)           2007   \n3             Austria  Chromium and compounds (as Cr)           2008   \n4             Austria           Nitrogen oxides (NOX)           2009   \n...               ...                             ...            ...   \n11536  United Kingdom            Sulphur oxides (SOX)           2018   \n11537  United Kingdom            Carbon dioxide (CO2)           2019   \n11538  United Kingdom                     Naphthalene           2019   \n11539  United Kingdom           Nitrogen oxides (NOX)           2019   \n11540  United Kingdom         Trichloroethylene (TRI)           2019   \n\n          emissions  \n0      1.632610e+08  \n1      3.800000e+02  \n2      1.882000e+04  \n3      3.890000e+02  \n4      1.910300e+07  \n...             ...  \n11536  7.244100e+07  \n11537  1.490220e+11  \n11538  4.606000e+03  \n11539  1.641830e+08  \n11540  4.610000e+04  \n\n[11541 rows x 4 columns]>"
     },
     "execution_count": 5,
     "metadata": {},
     "output_type": "execute_result"
    }
   ],
   "source": [
    "df.describe"
   ],
   "metadata": {
    "collapsed": false
   }
  },
  {
   "cell_type": "code",
   "execution_count": null,
   "outputs": [],
   "source": [],
   "metadata": {
    "collapsed": false
   }
  }
 ],
 "metadata": {
  "kernelspec": {
   "display_name": "Python 3",
   "language": "python",
   "name": "python3"
  },
  "language_info": {
   "codemirror_mode": {
    "name": "ipython",
    "version": 3
   },
   "file_extension": ".py",
   "mimetype": "text/x-python",
   "name": "python",
   "nbconvert_exporter": "python",
   "pygments_lexer": "ipython3",
   "version": "3.11.1"
  }
 },
 "nbformat": 4,
 "nbformat_minor": 0
}
